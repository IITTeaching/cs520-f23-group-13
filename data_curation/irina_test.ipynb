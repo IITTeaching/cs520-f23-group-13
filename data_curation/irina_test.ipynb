{
 "cells": [
  {
   "cell_type": "code",
   "execution_count": 92,
   "metadata": {},
   "outputs": [],
   "source": [
    "from tqdm import tqdm"
   ]
  },
  {
   "cell_type": "code",
   "execution_count": 93,
   "metadata": {},
   "outputs": [],
   "source": [
    "# !pip install tqdm pypdb\n",
    "# !pip install gemmi\n",
    "# !pip install pubchempy"
   ]
  },
  {
   "cell_type": "code",
   "execution_count": 94,
   "metadata": {},
   "outputs": [
    {
     "name": "stdout",
     "output_type": "stream",
     "text": [
      "Querying RCSB Search using the following parameters:\n",
      " {\"query\": {\"type\": \"terminal\", \"service\": \"sequence\", \"parameters\": {\"evalue_cutoff\": 0.01, \"identity_cutoff\": 0.85, \"target\": \"pdb_protein_sequence\", \"value\": \"MIKRSKKNSLALSLTADQMVSALLDAEPPILYSEYDPTRPFSEASMMGLLTNLADRELVHMINWAKRVPGFVDLTLHDQVHLLECAWLEILMIGLVWRSMEHPGKLLFAPNLLLDRNQGKCVEGMVEIFDMLLATSSRFRMMNLQGEEFVCLKSIILLNSGVYTFLSSTLKSLEEKDHIHRVLDKITDTLIHLMAKAGLTLQQQHERLAQLLLILSHIRHMSNKGMEHLYSMKCKNVVPLYDLLLEMLDAHRLHAPTS\"}}, \"request_options\": {\"return_all_hits\": true}, \"return_type\": \"entry\"} \n",
      "\n"
     ]
    }
   ],
   "source": [
    "from pypdb.clients.search.search_client import perform_search\n",
    "from pypdb.clients.search.operators import sequence_operators\n",
    "from pypdb.clients.search.search_client import ReturnType\n",
    "\n",
    "# Protein sequence for querying\n",
    "sequence = \"MIKRSKKNSLALSLTADQMVSALLDAEPPILYSEYDPTRPFSEASMMGLLTNLADRELVHMINWAKRVPGFVDLTLHDQVHLLECAWLEILMIGLVWRSMEHPGKLLFAPNLLLDRNQGKCVEGMVEIFDMLLATSSRFRMMNLQGEEFVCLKSIILLNSGVYTFLSSTLKSLEEKDHIHRVLDKITDTLIHLMAKAGLTLQQQHERLAQLLLILSHIRHMSNKGMEHLYSMKCKNVVPLYDLLLEMLDAHRLHAPTS\"\n",
    "\n",
    "# Define the sequence similarity search operator\n",
    "search_operator = sequence_operators.SequenceOperator(\n",
    "    sequence=sequence,\n",
    "    sequence_type=sequence_operators.SequenceType.PROTEIN,\n",
    "    evalue_cutoff=0.01,\n",
    "    identity_cutoff=0.85,\n",
    ")\n",
    "\n",
    "# Define the return type as ENTRY\n",
    "return_type = ReturnType.ENTRY\n",
    "\n",
    "# Perform the search and retrieve the results\n",
    "pdb_results = perform_search(search_operator=search_operator, return_type=return_type)\n",
    "data = [{\"pdb_id\": pdb_result} for pdb_result in pdb_results]"
   ]
  },
  {
   "cell_type": "code",
   "execution_count": 95,
   "metadata": {},
   "outputs": [
    {
     "data": {
      "text/plain": [
       "{'pdb_id': '1A52'}"
      ]
     },
     "execution_count": 95,
     "metadata": {},
     "output_type": "execute_result"
    }
   ],
   "source": [
    "data[0]"
   ]
  },
  {
   "cell_type": "code",
   "execution_count": 96,
   "metadata": {},
   "outputs": [],
   "source": [
    "%%capture\n",
    "from pypdb.clients.pdb import pdb_client\n",
    "from gemmi import cif\n",
    "import re\n",
    "\n",
    "for el in data:\n",
    "    el[\"in_ch_i\"] = []\n",
    "    el[\"in_ch_ikey\"] = []\n",
    "    el['chem_id'] = []\n",
    "    el['compound_id'] = []\n",
    "\n",
    "# for testing\n",
    "data = data[:5]\n",
    "\n",
    "for el in tqdm(data):\n",
    "    _id = el[\"pdb_id\"]\n",
    "\n",
    "    print(f\"Downloading {_id}...\")\n",
    "\n",
    "    pdb_file = pdb_client.get_pdb_file(pdb_id=_id, filetype=pdb_client.PDBFileType.CIF)\n",
    "    doc = cif.read_string(pdb_file)\n",
    "    el[\"doc\"] = doc\n",
    "    for block in el[\"doc\"]:\n",
    "        for element in block.find_loop(\"_pdbx_entity_nonpoly.comp_id\"):\n",
    "            el['chem_id'].append(element)"
   ]
  },
  {
   "cell_type": "code",
   "execution_count": 97,
   "metadata": {},
   "outputs": [
    {
     "data": {
      "text/plain": [
       "{'pdb_id': '1A52',\n",
       " 'in_ch_i': [],\n",
       " 'in_ch_ikey': [],\n",
       " 'chem_id': ['EST', 'AU', 'HOH'],\n",
       " 'compound_id': [],\n",
       " 'doc': <gemmi.cif.Document with 1 blocks (1A52)>}"
      ]
     },
     "execution_count": 97,
     "metadata": {},
     "output_type": "execute_result"
    }
   ],
   "source": [
    "data[0]"
   ]
  },
  {
   "cell_type": "code",
   "execution_count": 98,
   "metadata": {},
   "outputs": [
    {
     "name": "stderr",
     "output_type": "stream",
     "text": [
      "100%|██████████| 5/5 [00:02<00:00,  2.33it/s]\n"
     ]
    }
   ],
   "source": [
    "from pypdb import get_info, to_dict\n",
    "\n",
    "def get_inchi_pdb(chem_id):\n",
    "    out = get_info(chem_id, url_root = 'https://data.rcsb.org/rest/v1/core/chemcomp/')\n",
    "    return out['rcsb_chem_comp_descriptor']['in_ch_i'] , out['rcsb_chem_comp_descriptor']['in_ch_ikey']\n",
    "\n",
    "for el in tqdm(data):\n",
    "    for chem_id in el['chem_id']:\n",
    "        in_ch_i, in_ch_ikey = get_inchi_pdb(chem_id)\n",
    "        el[\"in_ch_i\"].append(in_ch_i)\n",
    "        el[\"in_ch_ikey\"].append(in_ch_ikey)"
   ]
  },
  {
   "cell_type": "code",
   "execution_count": 99,
   "metadata": {},
   "outputs": [
    {
     "data": {
      "text/plain": [
       "{'pdb_id': '1A52',\n",
       " 'in_ch_i': ['InChI=1S/C18H24O2/c1-18-9-8-14-13-5-3-12(19)10-11(13)2-4-15(14)16(18)6-7-17(18)20/h3,5,10,14-17,19-20H,2,4,6-9H2,1H3/t14-,15-,16+,17+,18+/m1/s1',\n",
       "  'InChI=1S/Au/q+1',\n",
       "  'InChI=1S/H2O/h1H2'],\n",
       " 'in_ch_ikey': ['VOXZDWNPVJITMN-ZBRFXRBCSA-N',\n",
       "  'ZBKIUFWVEIBQRT-UHFFFAOYSA-N',\n",
       "  'XLYOFNOQVPJJNP-UHFFFAOYSA-N'],\n",
       " 'chem_id': ['EST', 'AU', 'HOH'],\n",
       " 'compound_id': [],\n",
       " 'doc': <gemmi.cif.Document with 1 blocks (1A52)>}"
      ]
     },
     "execution_count": 99,
     "metadata": {},
     "output_type": "execute_result"
    }
   ],
   "source": [
    "data[0]"
   ]
  },
  {
   "cell_type": "code",
   "execution_count": 100,
   "metadata": {},
   "outputs": [
    {
     "data": {
      "text/plain": [
       "{'pdb_id': '1A52',\n",
       " 'in_ch_i': ['InChI=1S/C18H24O2/c1-18-9-8-14-13-5-3-12(19)10-11(13)2-4-15(14)16(18)6-7-17(18)20/h3,5,10,14-17,19-20H,2,4,6-9H2,1H3/t14-,15-,16+,17+,18+/m1/s1',\n",
       "  'InChI=1S/Au/q+1',\n",
       "  'InChI=1S/H2O/h1H2'],\n",
       " 'in_ch_ikey': ['VOXZDWNPVJITMN-ZBRFXRBCSA-N',\n",
       "  'ZBKIUFWVEIBQRT-UHFFFAOYSA-N',\n",
       "  'XLYOFNOQVPJJNP-UHFFFAOYSA-N'],\n",
       " 'chem_id': ['EST', 'AU', 'HOH'],\n",
       " 'compound_id': [5757, 114945, 962],\n",
       " 'doc': <gemmi.cif.Document with 1 blocks (1A52)>}"
      ]
     },
     "execution_count": 100,
     "metadata": {},
     "output_type": "execute_result"
    }
   ],
   "source": [
    "# compound_id = data[0]['chem_id'][0]\n",
    "\n",
    "import urllib\n",
    "import requests\n",
    "import json\n",
    "\n",
    "\n",
    "base_url = 'https://pubchem.ncbi.nlm.nih.gov/rest/pug/compound/inchi/cids/JSON?'\n",
    "\n",
    "for el in data:\n",
    "    lst = [{ 'inchi' : inchi }for inchi in el['in_ch_i']]\n",
    "    lst = [base_url + urllib.parse.urlencode(f) for f in lst]\n",
    "    for url in lst:\n",
    "        response = requests.get(url)\n",
    "        response = response.json()\n",
    "        el['compound_id'].append(response[\"IdentifierList\"][\"CID\"][0])\n",
    "\n",
    "data[0]"
   ]
  },
  {
   "cell_type": "code",
   "execution_count": 107,
   "metadata": {},
   "outputs": [
    {
     "name": "stdout",
     "output_type": "stream",
     "text": [
      "5757\n",
      "C[C@]12CC[C@H]3[C@H]([C@@H]1CC[C@@H]2O)CCC4=C3C=CC(=C4)O\n",
      "C18H24O2\n",
      "272.4\n",
      "4\n"
     ]
    }
   ],
   "source": [
    "import pubchempy as pcp\n",
    "from typing import List\n",
    "from pandas import DataFrame\n",
    "\n",
    "\n",
    "from pubchempy import get_compounds, Compound\n",
    "comp = Compound.from_cid(5757)\n",
    "print(comp.cid)\n",
    "print(comp.isomeric_smiles)\n",
    "print(comp.molecular_formula)\n",
    "print(comp.molecular_weight)\n",
    "print(comp.xlogp)\n"
   ]
  },
  {
   "cell_type": "code",
   "execution_count": null,
   "metadata": {},
   "outputs": [],
   "source": []
  }
 ],
 "metadata": {
  "kernelspec": {
   "display_name": "Python 3.9.13 64-bit",
   "language": "python",
   "name": "python3"
  },
  "language_info": {
   "codemirror_mode": {
    "name": "ipython",
    "version": 3
   },
   "file_extension": ".py",
   "mimetype": "text/x-python",
   "name": "python",
   "nbconvert_exporter": "python",
   "pygments_lexer": "ipython3",
   "version": "3.9.13"
  },
  "vscode": {
   "interpreter": {
    "hash": "7812ea015bdcee6f23a998adcdd2ef97c151c0c241b7b7070987d9313e41299d"
   }
  }
 },
 "nbformat": 4,
 "nbformat_minor": 2
}
