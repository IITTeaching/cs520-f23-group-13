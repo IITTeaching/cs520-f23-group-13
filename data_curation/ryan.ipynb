{
 "cells": [
  {
   "cell_type": "code",
   "execution_count": 29,
   "metadata": {
    "vscode": {
     "languageId": "shellscript"
    }
   },
   "outputs": [
    {
     "name": "stdout",
     "output_type": "stream",
     "text": [
      "Requirement already satisfied: requests in /opt/homebrew/lib/python3.11/site-packages (2.31.0)\n",
      "Requirement already satisfied: charset-normalizer<4,>=2 in /opt/homebrew/lib/python3.11/site-packages (from requests) (3.3.0)\n",
      "Requirement already satisfied: idna<4,>=2.5 in /opt/homebrew/lib/python3.11/site-packages (from requests) (3.4)\n",
      "Requirement already satisfied: urllib3<3,>=1.21.1 in /opt/homebrew/lib/python3.11/site-packages (from requests) (2.0.6)\n",
      "Requirement already satisfied: certifi>=2017.4.17 in /opt/homebrew/lib/python3.11/site-packages (from requests) (2023.7.22)\n",
      "\n",
      "\u001b[1m[\u001b[0m\u001b[34;49mnotice\u001b[0m\u001b[1;39;49m]\u001b[0m\u001b[39;49m A new release of pip is available: \u001b[0m\u001b[31;49m23.2.1\u001b[0m\u001b[39;49m -> \u001b[0m\u001b[32;49m23.3.1\u001b[0m\n",
      "\u001b[1m[\u001b[0m\u001b[34;49mnotice\u001b[0m\u001b[1;39;49m]\u001b[0m\u001b[39;49m To update, run: \u001b[0m\u001b[32;49mpython3.11 -m pip install --upgrade pip\u001b[0m\n",
      "Requirement already satisfied: rcsbsearchapi in /opt/homebrew/lib/python3.11/site-packages (1.4.2)\n",
      "Requirement already satisfied: requests>=2.0.0 in /opt/homebrew/lib/python3.11/site-packages (from rcsbsearchapi) (2.31.0)\n",
      "Requirement already satisfied: tqdm in /opt/homebrew/lib/python3.11/site-packages (from rcsbsearchapi) (4.66.1)\n",
      "Requirement already satisfied: charset-normalizer<4,>=2 in /opt/homebrew/lib/python3.11/site-packages (from requests>=2.0.0->rcsbsearchapi) (3.3.0)\n",
      "Requirement already satisfied: idna<4,>=2.5 in /opt/homebrew/lib/python3.11/site-packages (from requests>=2.0.0->rcsbsearchapi) (3.4)\n",
      "Requirement already satisfied: urllib3<3,>=1.21.1 in /opt/homebrew/lib/python3.11/site-packages (from requests>=2.0.0->rcsbsearchapi) (2.0.6)\n",
      "Requirement already satisfied: certifi>=2017.4.17 in /opt/homebrew/lib/python3.11/site-packages (from requests>=2.0.0->rcsbsearchapi) (2023.7.22)\n",
      "\n",
      "\u001b[1m[\u001b[0m\u001b[34;49mnotice\u001b[0m\u001b[1;39;49m]\u001b[0m\u001b[39;49m A new release of pip is available: \u001b[0m\u001b[31;49m23.2.1\u001b[0m\u001b[39;49m -> \u001b[0m\u001b[32;49m23.3.1\u001b[0m\n",
      "\u001b[1m[\u001b[0m\u001b[34;49mnotice\u001b[0m\u001b[1;39;49m]\u001b[0m\u001b[39;49m To update, run: \u001b[0m\u001b[32;49mpython3.11 -m pip install --upgrade pip\u001b[0m\n"
     ]
    }
   ],
   "source": [
    "!pip install requests\n",
    "!pip install rcsbsearchapi"
   ]
  },
  {
   "cell_type": "code",
   "execution_count": 3,
   "metadata": {},
   "outputs": [],
   "source": [
    "import re\n",
    "import requests\n",
    "\n",
    "from rcsbsearchapi.search import SequenceQuery"
   ]
  },
  {
   "cell_type": "markdown",
   "metadata": {},
   "source": [
    "### Phase 1: Solicit User for UniProt ID and Query/Save the Protein's Similar Sequences"
   ]
  },
  {
   "cell_type": "code",
   "execution_count": 42,
   "metadata": {},
   "outputs": [],
   "source": [
    "import requests\n",
    "\n",
    "def is_uniprot(pid):\n",
    "    \"\"\"\n",
    "    Check if a UniProt ID exists in the UniProt database.\n",
    "\n",
    "    Parameters:\n",
    "    pid (str): The UniProt ID to verify.\n",
    "\n",
    "    Returns:\n",
    "    bool: True if the UniProt ID exists, False otherwise.\n",
    "    \"\"\"\n",
    "    uniprot_api = f\"https://www.uniprot.org/uniprot/{pid}.txt\"\n",
    "    response = requests.get(uniprot_api)\n",
    "    return response.status_code == 200\n",
    "\n",
    "def get_fasta(pid):\n",
    "    \"\"\"\n",
    "    Retrieve the FASTA formatted sequence for a given UniProt ID.\n",
    "\n",
    "    Parameters:\n",
    "    pid (str): The UniProt ID for which to fetch the FASTA sequence.\n",
    "\n",
    "    Returns:\n",
    "    str: The FASTA formatted sequence if the UniProt ID exists, otherwise an error message.\n",
    "    \"\"\"\n",
    "    uniprot_fasta_url = f\"https://www.uniprot.org/uniprot/{pid}.fasta\"\n",
    "    response = requests.get(uniprot_fasta_url)\n",
    "    if response.status_code == 200:\n",
    "        return response.text\n",
    "    else:\n",
    "        return f\"Error: Unable to retrieve FASTA for UniProt ID {pid}\"\n"
   ]
  },
  {
   "cell_type": "code",
   "execution_count": 84,
   "metadata": {},
   "outputs": [],
   "source": [
    "def fetch_similarpid(fasta_sequence, pid):\n",
    "    \"\"\"\n",
    "    Performs a sequence similarity search against the RCSB Protein Data Bank (PDB) using a FASTA sequence.\n",
    "\n",
    "    Parameters:\n",
    "    fasta_sequence (str): The FASTA formatted sequence of a protein to search for.\n",
    "    evalue_cutoff (float): The e-value cutoff for the search. Default is 1.\n",
    "    identity_cutoff (float): The minimum identity percentage for the search. Default is 0.9.\n",
    "\n",
    "    Returns:\n",
    "    arr: The search result as an array of PDB IDs.\n",
    "    \"\"\"\n",
    "\n",
    "    search_request = {\n",
    "        \"query\": {\n",
    "            \"type\": \"terminal\",\n",
    "            \"service\": \"sequence\",\n",
    "            \"parameters\": {\n",
    "            \"evalue_cutoff\": 0.0001,\n",
    "            \"identity_cutoff\": 0.6,\n",
    "            \"sequence_type\": \"protein\",\n",
    "            \"value\": \"MDIKNSPSSLNSPSSYNCSQSILPLEHGSIYIPSSYVDSHHEYPAMTFYSPAVMNYSIPSNVTNLEGGPGRQTTSPNVLWPTPGHLSPLVVHRQLSHLYAEPQKSPWCEARSLEHTLPVNRETLKRKVSGNRCASPVTGPGSKRDAHFCAVCSDYASGYHYGVWSCEGCKAFFKRSIQGHNDYICPATNQCTIDKNRRKSCQACRLRKCYEVGMVKCGSRRERCGYRLVRRQRSADEQLHCAGKAKRSGGHAPRVRELLLDALSPEQLVLTLLEAEPPHVLISRPSAPFTEASMMMSLTKLADKELVHMISWAKKIPGFVELSLFDQVRLLESCWMEVLMMGLMWRSIDHPGKLIFAPDLVLDRDEGKCVEGILEIFDMLLATTSRFRELKLQHKEYLCVKAMILLNSSMYPLVTATQDADSSRKLAHLLNAVTDALVWVIAKSGISSQQQSMRLANLLMLLSHVRHASNKGMEHLLNMKCKNVVPVYDLLLEMLNAHVLRGCKSSITGSECSPAEDSKSKEGSQNPQSQ\"\n",
    "            }\n",
    "        },\n",
    "        \"return_type\": \"polymer_entity\",\n",
    "        \"request_options\": {\n",
    "            \"paginate\": {\n",
    "            \"start\": 0,\n",
    "            \"rows\": 1000\n",
    "            },\n",
    "            \"results_content_type\": [\n",
    "            \"experimental\"\n",
    "            ],\n",
    "            \"sort\": [\n",
    "            {\n",
    "                \"sort_by\": \"score\",\n",
    "                \"direction\": \"desc\"\n",
    "            }\n",
    "            ],\n",
    "            \"scoring_strategy\": \"combined\"\n",
    "        }\n",
    "}\n",
    "\n",
    "    # The json parameter in the requests.post automatically converts the Python dictionary to a JSON payload.\n",
    "    response = requests.post(\"https://search.rcsb.org/rcsbsearch/v2/query\", json=search_request)\n",
    "\n",
    "    # JSON elements are turned into a list    \n",
    "    identifiers_json = response.json()\n",
    "    identifiers = [result[\"identifier\"] for result in identifiers_json[\"result_set\"]]\n",
    "\n",
    "    print(identifiers)\n",
    "    return identifiers\n"
   ]
  },
  {
   "cell_type": "code",
   "execution_count": null,
   "metadata": {},
   "outputs": [],
   "source": [
    "# use this section to parse the results from previous code block and store all related UniProt IDs as an array"
   ]
  },
  {
   "cell_type": "code",
   "execution_count": 112,
   "metadata": {},
   "outputs": [],
   "source": [
    "def fetch_inchi_keys(pdb_id):\n",
    "    \"\"\"\n",
    "    Fetch InChIKeys for non-polymer entities (small molecules) associated with a PDB ID.\n",
    "\n",
    "    Parameters:\n",
    "    pdb_id (str): A string representing the PDB ID for which to fetch the InChIKeys.\n",
    "\n",
    "    Returns:\n",
    "    dict: A dictionary object that contains the response with InChIKeys.\n",
    "    \"\"\"\n",
    "    match = re.match(r'(\\w+)_([0-9]+)', pdb_id)\n",
    "\n",
    "    if match:\n",
    "        pdb_id = match.group(1)\n",
    "        num = match.group(2)\n",
    "    else:\n",
    "        raise Exception(f\"Invalid PDB ID: {pdb_id}\")\n",
    "    \n",
    "    url = 'https://data.rcsb.org/graphql'\n",
    "    headers = {'Content-Type': 'application/json'}\n",
    "    query = \"\"\"\n",
    "    query Structure($id: String!) {\n",
    "      entry(entry_id: $id) {\n",
    "        rcsb_id\n",
    "        polymer_entities {\n",
    "          rcsb_polymer_entity_container_identifiers {\n",
    "            uniprot_ids\n",
    "            reference_sequence_identifiers {\n",
    "              database_accession\n",
    "            }\n",
    "          }\n",
    "        }\n",
    "        nonpolymer_entities {\n",
    "          nonpolymer_comp {\n",
    "            rcsb_chem_comp_descriptor {\n",
    "              InChIKey\n",
    "            }\n",
    "          }\n",
    "        }\n",
    "      }\n",
    "    }\n",
    "    \"\"\"\n",
    "    variables = {'id': pdb_id}\n",
    "    response = requests.post(url, headers=headers, json={'query': query, 'variables': variables})\n",
    "    \n",
    "    if response.status_code == 200:\n",
    "        return response.json()\n",
    "    else:\n",
    "        raise Exception(f\"Query failed to run by returning code of {response.status_code}. {response.text}\")"
   ]
  },
  {
   "cell_type": "code",
   "execution_count": 113,
   "metadata": {},
   "outputs": [
    {
     "name": "stdout",
     "output_type": "stream",
     "text": [
      "['1YY4_1', '1YYE_1', '1QKM_1', '1L2J_1', '2I0G_1', '2JJ3_1', '2QTU_1', '2Z4B_1', '4ZI1_1', '5TOA_1', '1NDE_1', '1U3R_1', '1U9E_1', '2GIU_1', '1U3Q_1', '1U3S_1', '1X76_1', '1X78_1', '1X7B_1', '1X7J_1', '2YJD_1', '3OLL_1', '3OLS_1', '3OMO_1', '3OMP_1', '3OMQ_1', '4J24_1', '4J26_1', '2FSZ_1', '2NV7_1', '2YLY_1', '1ZAF_1', '2J7X_1', '2J7Y_1', '1HJ1_1', '1QKN_1', '7XVY_1', '7XVZ_1', '7XWP_1', '7XWQ_1', '7XWR_1', '7NDO_1', '7NEL_1', '7NFB_1', '1HCQ_3', '1HCP_1', '4AA6_1', '4OLN_1', '8IFO_1', '1LO1_3', '8CEF_3', '4OND_1', '1CIT_3', '6LC1_2']\n",
      "{'data': {'entry': {'rcsb_id': '1YY4', 'polymer_entities': [{'rcsb_polymer_entity_container_identifiers': {'uniprot_ids': ['Q92731'], 'reference_sequence_identifiers': [{'database_accession': 'Q92731'}]}}, {'rcsb_polymer_entity_container_identifiers': {'uniprot_ids': ['Q15788'], 'reference_sequence_identifiers': [{'database_accession': 'Q15788'}]}}], 'nonpolymer_entities': [{'nonpolymer_comp': {'rcsb_chem_comp_descriptor': {'InChIKey': 'YHEHVRSGKUYDON-UHFFFAOYSA-N'}}}]}}}\n",
      "{'data': {'entry': {'rcsb_id': '1YYE', 'polymer_entities': [{'rcsb_polymer_entity_container_identifiers': {'uniprot_ids': ['Q92731'], 'reference_sequence_identifiers': [{'database_accession': 'Q92731'}]}}, {'rcsb_polymer_entity_container_identifiers': {'uniprot_ids': None, 'reference_sequence_identifiers': None}}], 'nonpolymer_entities': [{'nonpolymer_comp': {'rcsb_chem_comp_descriptor': {'InChIKey': 'NSSOSHDCWCMNDM-UHFFFAOYSA-N'}}}]}}}\n",
      "{'data': {'entry': {'rcsb_id': '1QKM', 'polymer_entities': [{'rcsb_polymer_entity_container_identifiers': {'uniprot_ids': ['Q92731'], 'reference_sequence_identifiers': [{'database_accession': 'Q92731'}]}}], 'nonpolymer_entities': [{'nonpolymer_comp': {'rcsb_chem_comp_descriptor': {'InChIKey': 'TZBJGXHYKVUXJN-UHFFFAOYSA-N'}}}]}}}\n",
      "{'data': {'entry': {'rcsb_id': '1L2J', 'polymer_entities': [{'rcsb_polymer_entity_container_identifiers': {'uniprot_ids': ['Q92731'], 'reference_sequence_identifiers': [{'database_accession': 'Q92731'}]}}], 'nonpolymer_entities': [{'nonpolymer_comp': {'rcsb_chem_comp_descriptor': {'InChIKey': 'MASYAWHPJCQLSW-ZIAGYGMSSA-N'}}}]}}}\n",
      "{'data': {'entry': {'rcsb_id': '2I0G', 'polymer_entities': [{'rcsb_polymer_entity_container_identifiers': {'uniprot_ids': ['Q92731'], 'reference_sequence_identifiers': [{'database_accession': 'Q92731'}]}}], 'nonpolymer_entities': [{'nonpolymer_comp': {'rcsb_chem_comp_descriptor': {'InChIKey': 'XIESSJVMWNJCGZ-VKJFTORMSA-N'}}}]}}}\n",
      "{'data': {'entry': {'rcsb_id': '2JJ3', 'polymer_entities': [{'rcsb_polymer_entity_container_identifiers': {'uniprot_ids': ['Q92731'], 'reference_sequence_identifiers': [{'database_accession': 'Q92731'}]}}], 'nonpolymer_entities': [{'nonpolymer_comp': {'rcsb_chem_comp_descriptor': {'InChIKey': 'RHQLNMNKTIOREN-AOIWGVFYSA-N'}}}]}}}\n",
      "{'data': {'entry': {'rcsb_id': '2QTU', 'polymer_entities': [{'rcsb_polymer_entity_container_identifiers': {'uniprot_ids': ['Q92731'], 'reference_sequence_identifiers': [{'database_accession': 'Q92731'}]}}], 'nonpolymer_entities': [{'nonpolymer_comp': {'rcsb_chem_comp_descriptor': {'InChIKey': 'GPFRMIHXGMVMGF-BZSNNMDCSA-N'}}}]}}}\n",
      "{'data': {'entry': {'rcsb_id': '2Z4B', 'polymer_entities': [{'rcsb_polymer_entity_container_identifiers': {'uniprot_ids': ['Q92731'], 'reference_sequence_identifiers': [{'database_accession': 'Q92731'}]}}], 'nonpolymer_entities': [{'nonpolymer_comp': {'rcsb_chem_comp_descriptor': {'InChIKey': 'QJSMFUTULGSHNQ-ZOBUZTSGSA-N'}}}]}}}\n",
      "{'data': {'entry': {'rcsb_id': '4ZI1', 'polymer_entities': [{'rcsb_polymer_entity_container_identifiers': {'uniprot_ids': ['Q92731'], 'reference_sequence_identifiers': [{'database_accession': 'Q92731'}]}}, {'rcsb_polymer_entity_container_identifiers': {'uniprot_ids': ['Q9HCD5'], 'reference_sequence_identifiers': [{'database_accession': 'Q9HCD5'}]}}], 'nonpolymer_entities': [{'nonpolymer_comp': {'rcsb_chem_comp_descriptor': {'InChIKey': 'KXVQYSIZQKFFIZ-UHFFFAOYSA-N'}}}]}}}\n",
      "{'data': {'entry': {'rcsb_id': '5TOA', 'polymer_entities': [{'rcsb_polymer_entity_container_identifiers': {'uniprot_ids': ['Q92731'], 'reference_sequence_identifiers': [{'database_accession': 'Q92731'}]}}], 'nonpolymer_entities': [{'nonpolymer_comp': {'rcsb_chem_comp_descriptor': {'InChIKey': 'VOXZDWNPVJITMN-ZBRFXRBCSA-N'}}}]}}}\n",
      "{'data': {'entry': {'rcsb_id': '1NDE', 'polymer_entities': [{'rcsb_polymer_entity_container_identifiers': {'uniprot_ids': ['Q92731'], 'reference_sequence_identifiers': [{'database_accession': 'Q92731'}]}}], 'nonpolymer_entities': [{'nonpolymer_comp': {'rcsb_chem_comp_descriptor': {'InChIKey': 'AIBKIFHSQQYXLG-UHFFFAOYSA-N'}}}]}}}\n",
      "{'data': {'entry': {'rcsb_id': '1U3R', 'polymer_entities': [{'rcsb_polymer_entity_container_identifiers': {'uniprot_ids': ['Q92731'], 'reference_sequence_identifiers': [{'database_accession': 'Q92731'}]}}, {'rcsb_polymer_entity_container_identifiers': {'uniprot_ids': ['Q15788'], 'reference_sequence_identifiers': [{'database_accession': 'Q15788'}]}}], 'nonpolymer_entities': [{'nonpolymer_comp': {'rcsb_chem_comp_descriptor': {'InChIKey': 'JHOZVRGNIYFYHE-UHFFFAOYSA-N'}}}]}}}\n",
      "{'data': {'entry': {'rcsb_id': '1U9E', 'polymer_entities': [{'rcsb_polymer_entity_container_identifiers': {'uniprot_ids': ['Q92731'], 'reference_sequence_identifiers': [{'database_accession': 'Q92731'}]}}, {'rcsb_polymer_entity_container_identifiers': {'uniprot_ids': None, 'reference_sequence_identifiers': None}}], 'nonpolymer_entities': [{'nonpolymer_comp': {'rcsb_chem_comp_descriptor': {'InChIKey': 'SNNNDCMXZYWCCI-UHFFFAOYSA-N'}}}]}}}\n",
      "{'data': {'entry': {'rcsb_id': '2GIU', 'polymer_entities': [{'rcsb_polymer_entity_container_identifiers': {'uniprot_ids': ['Q92731'], 'reference_sequence_identifiers': [{'database_accession': 'Q92731'}]}}], 'nonpolymer_entities': [{'nonpolymer_comp': {'rcsb_chem_comp_descriptor': {'InChIKey': 'FTEBGBCQCYMDPH-KRWDZBQOSA-N'}}}]}}}\n",
      "{'data': {'entry': {'rcsb_id': '1U3Q', 'polymer_entities': [{'rcsb_polymer_entity_container_identifiers': {'uniprot_ids': ['Q92731'], 'reference_sequence_identifiers': [{'database_accession': 'Q92731'}]}}], 'nonpolymer_entities': [{'nonpolymer_comp': {'rcsb_chem_comp_descriptor': {'InChIKey': 'NBTXJDAHLMMIGY-UHFFFAOYSA-N'}}}]}}}\n",
      "{'data': {'entry': {'rcsb_id': '1U3S', 'polymer_entities': [{'rcsb_polymer_entity_container_identifiers': {'uniprot_ids': ['Q92731'], 'reference_sequence_identifiers': [{'database_accession': 'Q92731'}]}}, {'rcsb_polymer_entity_container_identifiers': {'uniprot_ids': ['Q15788'], 'reference_sequence_identifiers': [{'database_accession': 'Q15788'}]}}], 'nonpolymer_entities': [{'nonpolymer_comp': {'rcsb_chem_comp_descriptor': {'InChIKey': 'LCGSYJVWLGYWTD-UHFFFAOYSA-N'}}}]}}}\n",
      "{'data': {'entry': {'rcsb_id': '1X76', 'polymer_entities': [{'rcsb_polymer_entity_container_identifiers': {'uniprot_ids': ['Q92731'], 'reference_sequence_identifiers': [{'database_accession': 'Q92731'}]}}, {'rcsb_polymer_entity_container_identifiers': {'uniprot_ids': ['Q15788'], 'reference_sequence_identifiers': [{'database_accession': 'Q15788'}]}}], 'nonpolymer_entities': [{'nonpolymer_comp': {'rcsb_chem_comp_descriptor': {'InChIKey': 'GGEKOZPXKBYLNK-UHFFFAOYSA-N'}}}]}}}\n",
      "{'data': {'entry': {'rcsb_id': '1X78', 'polymer_entities': [{'rcsb_polymer_entity_container_identifiers': {'uniprot_ids': ['Q92731'], 'reference_sequence_identifiers': [{'database_accession': 'Q92731'}]}}, {'rcsb_polymer_entity_container_identifiers': {'uniprot_ids': None, 'reference_sequence_identifiers': None}}], 'nonpolymer_entities': [{'nonpolymer_comp': {'rcsb_chem_comp_descriptor': {'InChIKey': 'ZKJVCUXZMYKTLT-UHFFFAOYSA-N'}}}]}}}\n",
      "{'data': {'entry': {'rcsb_id': '1X7B', 'polymer_entities': [{'rcsb_polymer_entity_container_identifiers': {'uniprot_ids': ['Q92731'], 'reference_sequence_identifiers': [{'database_accession': 'Q92731'}]}}, {'rcsb_polymer_entity_container_identifiers': {'uniprot_ids': None, 'reference_sequence_identifiers': None}}], 'nonpolymer_entities': [{'nonpolymer_comp': {'rcsb_chem_comp_descriptor': {'InChIKey': 'MQIMZDXIAHJKQP-UHFFFAOYSA-N'}}}]}}}\n",
      "{'data': {'entry': {'rcsb_id': '1X7J', 'polymer_entities': [{'rcsb_polymer_entity_container_identifiers': {'uniprot_ids': ['Q92731'], 'reference_sequence_identifiers': [{'database_accession': 'Q92731'}]}}, {'rcsb_polymer_entity_container_identifiers': {'uniprot_ids': None, 'reference_sequence_identifiers': None}}], 'nonpolymer_entities': [{'nonpolymer_comp': {'rcsb_chem_comp_descriptor': {'InChIKey': 'TZBJGXHYKVUXJN-UHFFFAOYSA-N'}}}]}}}\n",
      "{'data': {'entry': {'rcsb_id': '2YJD', 'polymer_entities': [{'rcsb_polymer_entity_container_identifiers': {'uniprot_ids': ['Q92731'], 'reference_sequence_identifiers': [{'database_accession': 'Q92731'}]}}, {'rcsb_polymer_entity_container_identifiers': {'uniprot_ids': ['Q15596'], 'reference_sequence_identifiers': [{'database_accession': 'Q15596'}]}}], 'nonpolymer_entities': [{'nonpolymer_comp': {'rcsb_chem_comp_descriptor': {'InChIKey': 'IRWOSCQWORJIQP-UHFFFAOYSA-N'}}}]}}}\n",
      "{'data': {'entry': {'rcsb_id': '3OLL', 'polymer_entities': [{'rcsb_polymer_entity_container_identifiers': {'uniprot_ids': ['Q92731'], 'reference_sequence_identifiers': [{'database_accession': 'Q92731'}]}}, {'rcsb_polymer_entity_container_identifiers': {'uniprot_ids': ['Q15788'], 'reference_sequence_identifiers': [{'database_accession': 'Q15788'}]}}], 'nonpolymer_entities': [{'nonpolymer_comp': {'rcsb_chem_comp_descriptor': {'InChIKey': 'VOXZDWNPVJITMN-ZBRFXRBCSA-N'}}}]}}}\n",
      "{'data': {'entry': {'rcsb_id': '3OLS', 'polymer_entities': [{'rcsb_polymer_entity_container_identifiers': {'uniprot_ids': ['Q92731'], 'reference_sequence_identifiers': [{'database_accession': 'Q92731'}]}}, {'rcsb_polymer_entity_container_identifiers': {'uniprot_ids': ['Q15788'], 'reference_sequence_identifiers': [{'database_accession': 'Q15788'}]}}], 'nonpolymer_entities': [{'nonpolymer_comp': {'rcsb_chem_comp_descriptor': {'InChIKey': 'VOXZDWNPVJITMN-ZBRFXRBCSA-N'}}}]}}}\n",
      "{'data': {'entry': {'rcsb_id': '3OMO', 'polymer_entities': [{'rcsb_polymer_entity_container_identifiers': {'uniprot_ids': ['Q92731'], 'reference_sequence_identifiers': [{'database_accession': 'Q92731'}]}}, {'rcsb_polymer_entity_container_identifiers': {'uniprot_ids': ['Q15788'], 'reference_sequence_identifiers': [{'database_accession': 'Q15788'}]}}], 'nonpolymer_entities': [{'nonpolymer_comp': {'rcsb_chem_comp_descriptor': {'InChIKey': 'QNFSENFVEFYGPS-UHFFFAOYSA-N'}}}]}}}\n",
      "{'data': {'entry': {'rcsb_id': '3OMP', 'polymer_entities': [{'rcsb_polymer_entity_container_identifiers': {'uniprot_ids': ['Q92731'], 'reference_sequence_identifiers': [{'database_accession': 'Q92731'}]}}, {'rcsb_polymer_entity_container_identifiers': {'uniprot_ids': ['Q15788'], 'reference_sequence_identifiers': [{'database_accession': 'Q15788'}]}}], 'nonpolymer_entities': [{'nonpolymer_comp': {'rcsb_chem_comp_descriptor': {'InChIKey': 'OZASZYYBDFCSHO-UHFFFAOYSA-N'}}}]}}}\n",
      "{'data': {'entry': {'rcsb_id': '3OMQ', 'polymer_entities': [{'rcsb_polymer_entity_container_identifiers': {'uniprot_ids': ['Q92731'], 'reference_sequence_identifiers': [{'database_accession': 'Q92731'}]}}, {'rcsb_polymer_entity_container_identifiers': {'uniprot_ids': ['Q15788'], 'reference_sequence_identifiers': [{'database_accession': 'Q15788'}]}}], 'nonpolymer_entities': [{'nonpolymer_comp': {'rcsb_chem_comp_descriptor': {'InChIKey': 'HADUTEDIBIZUBV-UHFFFAOYSA-N'}}}]}}}\n",
      "{'data': {'entry': {'rcsb_id': '4J24', 'polymer_entities': [{'rcsb_polymer_entity_container_identifiers': {'uniprot_ids': ['Q92731'], 'reference_sequence_identifiers': [{'database_accession': 'Q92731'}]}}, {'rcsb_polymer_entity_container_identifiers': {'uniprot_ids': None, 'reference_sequence_identifiers': None}}], 'nonpolymer_entities': [{'nonpolymer_comp': {'rcsb_chem_comp_descriptor': {'InChIKey': 'VOXZDWNPVJITMN-ZBRFXRBCSA-N'}}}]}}}\n",
      "{'data': {'entry': {'rcsb_id': '4J26', 'polymer_entities': [{'rcsb_polymer_entity_container_identifiers': {'uniprot_ids': ['Q92731'], 'reference_sequence_identifiers': [{'database_accession': 'Q92731'}]}}, {'rcsb_polymer_entity_container_identifiers': {'uniprot_ids': None, 'reference_sequence_identifiers': None}}], 'nonpolymer_entities': [{'nonpolymer_comp': {'rcsb_chem_comp_descriptor': {'InChIKey': 'VOXZDWNPVJITMN-ZBRFXRBCSA-N'}}}]}}}\n",
      "{'data': {'entry': {'rcsb_id': '2FSZ', 'polymer_entities': [{'rcsb_polymer_entity_container_identifiers': {'uniprot_ids': ['Q92731'], 'reference_sequence_identifiers': [{'database_accession': 'Q92731'}]}}], 'nonpolymer_entities': [{'nonpolymer_comp': {'rcsb_chem_comp_descriptor': {'InChIKey': 'TXUZVZSFRXZGTL-QPLCGJKRSA-N'}}}]}}}\n",
      "{'data': {'entry': {'rcsb_id': '2NV7', 'polymer_entities': [{'rcsb_polymer_entity_container_identifiers': {'uniprot_ids': ['Q92731'], 'reference_sequence_identifiers': [{'database_accession': 'Q92731'}]}}, {'rcsb_polymer_entity_container_identifiers': {'uniprot_ids': ['Q15788'], 'reference_sequence_identifiers': [{'database_accession': 'Q15788'}]}}], 'nonpolymer_entities': [{'nonpolymer_comp': {'rcsb_chem_comp_descriptor': {'InChIKey': 'VYQQTWUZKPWPRL-WOJGMQOQSA-N'}}}]}}}\n",
      "{'data': {'entry': {'rcsb_id': '2YLY', 'polymer_entities': [{'rcsb_polymer_entity_container_identifiers': {'uniprot_ids': ['Q92731'], 'reference_sequence_identifiers': [{'database_accession': 'Q92731'}]}}], 'nonpolymer_entities': [{'nonpolymer_comp': {'rcsb_chem_comp_descriptor': {'InChIKey': 'GYHSDCAQMDKVKI-SFHVURJKSA-N'}}}, {'nonpolymer_comp': {'rcsb_chem_comp_descriptor': {'InChIKey': 'QAOWNCQODCNURD-UHFFFAOYSA-L'}}}]}}}\n",
      "{'data': {'entry': {'rcsb_id': '1ZAF', 'polymer_entities': [{'rcsb_polymer_entity_container_identifiers': {'uniprot_ids': ['Q15788'], 'reference_sequence_identifiers': [{'database_accession': 'Q15788'}]}}, {'rcsb_polymer_entity_container_identifiers': {'uniprot_ids': ['Q92731'], 'reference_sequence_identifiers': [{'database_accession': 'Q92731'}]}}], 'nonpolymer_entities': [{'nonpolymer_comp': {'rcsb_chem_comp_descriptor': {'InChIKey': 'DHPCBFMFERFZLR-UHFFFAOYSA-N'}}}]}}}\n",
      "{'data': {'entry': {'rcsb_id': '2J7X', 'polymer_entities': [{'rcsb_polymer_entity_container_identifiers': {'uniprot_ids': ['Q62986'], 'reference_sequence_identifiers': [{'database_accession': 'Q62986'}]}}, {'rcsb_polymer_entity_container_identifiers': {'uniprot_ids': ['Q9HCD5'], 'reference_sequence_identifiers': [{'database_accession': 'Q9HCD5'}]}}], 'nonpolymer_entities': [{'nonpolymer_comp': {'rcsb_chem_comp_descriptor': {'InChIKey': 'VOXZDWNPVJITMN-ZBRFXRBCSA-N'}}}, {'nonpolymer_comp': {'rcsb_chem_comp_descriptor': {'InChIKey': 'LYCAIKOWRPUZTN-UHFFFAOYSA-N'}}}, {'nonpolymer_comp': {'rcsb_chem_comp_descriptor': {'InChIKey': 'QAOWNCQODCNURD-UHFFFAOYSA-L'}}}, {'nonpolymer_comp': {'rcsb_chem_comp_descriptor': {'InChIKey': 'BVKZGUZCCUSVTD-UHFFFAOYSA-M'}}}]}}}\n",
      "{'data': {'entry': {'rcsb_id': '2J7Y', 'polymer_entities': [{'rcsb_polymer_entity_container_identifiers': {'uniprot_ids': ['Q62986'], 'reference_sequence_identifiers': [{'database_accession': 'Q62986'}]}}, {'rcsb_polymer_entity_container_identifiers': {'uniprot_ids': ['Q9HCD5'], 'reference_sequence_identifiers': [{'database_accession': 'Q9HCD5'}]}}], 'nonpolymer_entities': [{'nonpolymer_comp': {'rcsb_chem_comp_descriptor': {'InChIKey': 'PROQIPRRNZUXQM-PNVOZDDCSA-N'}}}, {'nonpolymer_comp': {'rcsb_chem_comp_descriptor': {'InChIKey': 'LYCAIKOWRPUZTN-UHFFFAOYSA-N'}}}, {'nonpolymer_comp': {'rcsb_chem_comp_descriptor': {'InChIKey': 'BVKZGUZCCUSVTD-UHFFFAOYSA-M'}}}, {'nonpolymer_comp': {'rcsb_chem_comp_descriptor': {'InChIKey': 'QAOWNCQODCNURD-UHFFFAOYSA-L'}}}]}}}\n",
      "{'data': {'entry': {'rcsb_id': '1HJ1', 'polymer_entities': [{'rcsb_polymer_entity_container_identifiers': {'uniprot_ids': ['Q62986'], 'reference_sequence_identifiers': [{'database_accession': 'Q62986'}]}}], 'nonpolymer_entities': [{'nonpolymer_comp': {'rcsb_chem_comp_descriptor': {'InChIKey': 'BVVFOLSZMQVDKV-KXQIQQEYSA-N'}}}, {'nonpolymer_comp': {'rcsb_chem_comp_descriptor': {'InChIKey': 'KQAOIKIZSJJTII-UHFFFAOYSA-N'}}}, {'nonpolymer_comp': {'rcsb_chem_comp_descriptor': {'InChIKey': 'VEQPNABPJHWNSG-UHFFFAOYSA-N'}}}]}}}\n",
      "{'data': {'entry': {'rcsb_id': '1QKN', 'polymer_entities': [{'rcsb_polymer_entity_container_identifiers': {'uniprot_ids': ['Q62986'], 'reference_sequence_identifiers': [{'database_accession': 'Q62986'}]}}], 'nonpolymer_entities': [{'nonpolymer_comp': {'rcsb_chem_comp_descriptor': {'InChIKey': 'QTBSBXVTEAMEQO-UHFFFAOYSA-M'}}}, {'nonpolymer_comp': {'rcsb_chem_comp_descriptor': {'InChIKey': 'GZUITABIAKMVPG-UHFFFAOYSA-N'}}}]}}}\n",
      "{'data': {'entry': {'rcsb_id': '7XVY', 'polymer_entities': [{'rcsb_polymer_entity_container_identifiers': {'uniprot_ids': ['Q92731'], 'reference_sequence_identifiers': [{'database_accession': 'Q92731'}]}}, {'rcsb_polymer_entity_container_identifiers': {'uniprot_ids': ['Q15788'], 'reference_sequence_identifiers': [{'database_accession': 'Q15788'}]}}], 'nonpolymer_entities': [{'nonpolymer_comp': {'rcsb_chem_comp_descriptor': {'InChIKey': 'GHZHWDWADLAOIQ-CYBMUJFWSA-N'}}}]}}}\n",
      "{'data': {'entry': {'rcsb_id': '7XVZ', 'polymer_entities': [{'rcsb_polymer_entity_container_identifiers': {'uniprot_ids': ['Q92731'], 'reference_sequence_identifiers': [{'database_accession': 'Q92731'}]}}, {'rcsb_polymer_entity_container_identifiers': {'uniprot_ids': ['Q15788'], 'reference_sequence_identifiers': [{'database_accession': 'Q15788'}]}}], 'nonpolymer_entities': [{'nonpolymer_comp': {'rcsb_chem_comp_descriptor': {'InChIKey': 'NDFNTIQEFMPFJY-LBPRGKRZSA-N'}}}]}}}\n",
      "{'data': {'entry': {'rcsb_id': '7XWP', 'polymer_entities': [{'rcsb_polymer_entity_container_identifiers': {'uniprot_ids': ['Q92731'], 'reference_sequence_identifiers': [{'database_accession': 'Q92731'}]}}, {'rcsb_polymer_entity_container_identifiers': {'uniprot_ids': ['Q15788'], 'reference_sequence_identifiers': [{'database_accession': 'Q15788'}]}}], 'nonpolymer_entities': [{'nonpolymer_comp': {'rcsb_chem_comp_descriptor': {'InChIKey': 'NDFNTIQEFMPFJY-GFCCVEGCSA-N'}}}]}}}\n",
      "{'data': {'entry': {'rcsb_id': '7XWQ', 'polymer_entities': [{'rcsb_polymer_entity_container_identifiers': {'uniprot_ids': ['Q92731'], 'reference_sequence_identifiers': [{'database_accession': 'Q92731'}]}}, {'rcsb_polymer_entity_container_identifiers': {'uniprot_ids': ['Q15788'], 'reference_sequence_identifiers': [{'database_accession': 'Q15788'}]}}], 'nonpolymer_entities': [{'nonpolymer_comp': {'rcsb_chem_comp_descriptor': {'InChIKey': 'PQFVBUHUFFSLPG-NSHDSACASA-N'}}}]}}}\n",
      "{'data': {'entry': {'rcsb_id': '7XWR', 'polymer_entities': [{'rcsb_polymer_entity_container_identifiers': {'uniprot_ids': ['Q92731'], 'reference_sequence_identifiers': [{'database_accession': 'Q92731'}]}}, {'rcsb_polymer_entity_container_identifiers': {'uniprot_ids': ['Q15788'], 'reference_sequence_identifiers': [{'database_accession': 'Q15788'}]}}], 'nonpolymer_entities': [{'nonpolymer_comp': {'rcsb_chem_comp_descriptor': {'InChIKey': 'PQFVBUHUFFSLPG-LLVKDONJSA-N'}}}]}}}\n",
      "{'data': {'entry': {'rcsb_id': '7NDO', 'polymer_entities': [{'rcsb_polymer_entity_container_identifiers': {'uniprot_ids': ['P03372'], 'reference_sequence_identifiers': [{'database_accession': 'P03372'}]}}], 'nonpolymer_entities': [{'nonpolymer_comp': {'rcsb_chem_comp_descriptor': {'InChIKey': 'GZUITABIAKMVPG-UHFFFAOYSA-N'}}}, {'nonpolymer_comp': {'rcsb_chem_comp_descriptor': {'InChIKey': 'LYCAIKOWRPUZTN-UHFFFAOYSA-N'}}}, {'nonpolymer_comp': {'rcsb_chem_comp_descriptor': {'InChIKey': 'VEXZGXHMUGYJMC-UHFFFAOYSA-M'}}}]}}}\n",
      "{'data': {'entry': {'rcsb_id': '7NEL', 'polymer_entities': [{'rcsb_polymer_entity_container_identifiers': {'uniprot_ids': ['P03372'], 'reference_sequence_identifiers': [{'database_accession': 'P03372'}]}}, {'rcsb_polymer_entity_container_identifiers': {'uniprot_ids': ['Q15596'], 'reference_sequence_identifiers': [{'database_accession': 'Q15596'}]}}], 'nonpolymer_entities': [{'nonpolymer_comp': {'rcsb_chem_comp_descriptor': {'InChIKey': 'VOXZDWNPVJITMN-ZBRFXRBCSA-N'}}}, {'nonpolymer_comp': {'rcsb_chem_comp_descriptor': {'InChIKey': 'LYCAIKOWRPUZTN-UHFFFAOYSA-N'}}}, {'nonpolymer_comp': {'rcsb_chem_comp_descriptor': {'InChIKey': 'PEDCQBHIVMGVHV-UHFFFAOYSA-N'}}}, {'nonpolymer_comp': {'rcsb_chem_comp_descriptor': {'InChIKey': 'FKNQFGJONOIPTF-UHFFFAOYSA-N'}}}, {'nonpolymer_comp': {'rcsb_chem_comp_descriptor': {'InChIKey': 'VEXZGXHMUGYJMC-UHFFFAOYSA-M'}}}]}}}\n",
      "{'data': {'entry': {'rcsb_id': '7NFB', 'polymer_entities': [{'rcsb_polymer_entity_container_identifiers': {'uniprot_ids': ['P03372'], 'reference_sequence_identifiers': [{'database_accession': 'P03372'}]}}, {'rcsb_polymer_entity_container_identifiers': {'uniprot_ids': ['Q15596'], 'reference_sequence_identifiers': [{'database_accession': 'Q15596'}]}}], 'nonpolymer_entities': [{'nonpolymer_comp': {'rcsb_chem_comp_descriptor': {'InChIKey': 'TZBJGXHYKVUXJN-UHFFFAOYSA-N'}}}, {'nonpolymer_comp': {'rcsb_chem_comp_descriptor': {'InChIKey': 'FKNQFGJONOIPTF-UHFFFAOYSA-N'}}}, {'nonpolymer_comp': {'rcsb_chem_comp_descriptor': {'InChIKey': 'LYCAIKOWRPUZTN-UHFFFAOYSA-N'}}}, {'nonpolymer_comp': {'rcsb_chem_comp_descriptor': {'InChIKey': 'VEXZGXHMUGYJMC-UHFFFAOYSA-M'}}}, {'nonpolymer_comp': {'rcsb_chem_comp_descriptor': {'InChIKey': 'PEDCQBHIVMGVHV-UHFFFAOYSA-N'}}}]}}}\n",
      "{'data': {'entry': {'rcsb_id': '1HCQ', 'polymer_entities': [{'rcsb_polymer_entity_container_identifiers': {'uniprot_ids': None, 'reference_sequence_identifiers': None}}, {'rcsb_polymer_entity_container_identifiers': {'uniprot_ids': None, 'reference_sequence_identifiers': None}}, {'rcsb_polymer_entity_container_identifiers': {'uniprot_ids': ['P03372'], 'reference_sequence_identifiers': [{'database_accession': 'P03372'}]}}], 'nonpolymer_entities': [{'nonpolymer_comp': {'rcsb_chem_comp_descriptor': {'InChIKey': 'PTFCDOFLOPIGGS-UHFFFAOYSA-N'}}}]}}}\n",
      "{'data': {'entry': {'rcsb_id': '1HCP', 'polymer_entities': [{'rcsb_polymer_entity_container_identifiers': {'uniprot_ids': ['P03372'], 'reference_sequence_identifiers': [{'database_accession': 'P03372'}]}}], 'nonpolymer_entities': [{'nonpolymer_comp': {'rcsb_chem_comp_descriptor': {'InChIKey': 'PTFCDOFLOPIGGS-UHFFFAOYSA-N'}}}]}}}\n",
      "{'data': {'entry': {'rcsb_id': '4AA6', 'polymer_entities': [{'rcsb_polymer_entity_container_identifiers': {'uniprot_ids': ['P03372'], 'reference_sequence_identifiers': [{'database_accession': 'P03372'}]}}, {'rcsb_polymer_entity_container_identifiers': {'uniprot_ids': None, 'reference_sequence_identifiers': None}}, {'rcsb_polymer_entity_container_identifiers': {'uniprot_ids': None, 'reference_sequence_identifiers': None}}], 'nonpolymer_entities': [{'nonpolymer_comp': {'rcsb_chem_comp_descriptor': {'InChIKey': 'PTFCDOFLOPIGGS-UHFFFAOYSA-N'}}}]}}}\n",
      "{'data': {'entry': {'rcsb_id': '4OLN', 'polymer_entities': [{'rcsb_polymer_entity_container_identifiers': {'uniprot_ids': None, 'reference_sequence_identifiers': None}}, {'rcsb_polymer_entity_container_identifiers': {'uniprot_ids': None, 'reference_sequence_identifiers': None}}, {'rcsb_polymer_entity_container_identifiers': {'uniprot_ids': None, 'reference_sequence_identifiers': None}}], 'nonpolymer_entities': [{'nonpolymer_comp': {'rcsb_chem_comp_descriptor': {'InChIKey': 'PTFCDOFLOPIGGS-UHFFFAOYSA-N'}}}, {'nonpolymer_comp': {'rcsb_chem_comp_descriptor': {'InChIKey': 'FKNQFGJONOIPTF-UHFFFAOYSA-N'}}}]}}}\n",
      "{'data': {'entry': {'rcsb_id': '8IFO', 'polymer_entities': [{'rcsb_polymer_entity_container_identifiers': {'uniprot_ids': ['P62508'], 'reference_sequence_identifiers': [{'database_accession': 'P62508'}]}}, {'rcsb_polymer_entity_container_identifiers': {'uniprot_ids': None, 'reference_sequence_identifiers': None}}, {'rcsb_polymer_entity_container_identifiers': {'uniprot_ids': None, 'reference_sequence_identifiers': None}}], 'nonpolymer_entities': [{'nonpolymer_comp': {'rcsb_chem_comp_descriptor': {'InChIKey': 'PTFCDOFLOPIGGS-UHFFFAOYSA-N'}}}, {'nonpolymer_comp': {'rcsb_chem_comp_descriptor': {'InChIKey': 'OFOBLEOULBTSOW-UHFFFAOYSA-L'}}}]}}}\n",
      "{'data': {'entry': {'rcsb_id': '1LO1', 'polymer_entities': [{'rcsb_polymer_entity_container_identifiers': {'uniprot_ids': None, 'reference_sequence_identifiers': None}}, {'rcsb_polymer_entity_container_identifiers': {'uniprot_ids': None, 'reference_sequence_identifiers': None}}, {'rcsb_polymer_entity_container_identifiers': {'uniprot_ids': ['O95718'], 'reference_sequence_identifiers': [{'database_accession': 'O95718'}]}}], 'nonpolymer_entities': [{'nonpolymer_comp': {'rcsb_chem_comp_descriptor': {'InChIKey': 'PTFCDOFLOPIGGS-UHFFFAOYSA-N'}}}]}}}\n",
      "{'data': {'entry': {'rcsb_id': '8CEF', 'polymer_entities': [{'rcsb_polymer_entity_container_identifiers': {'uniprot_ids': None, 'reference_sequence_identifiers': None}}, {'rcsb_polymer_entity_container_identifiers': {'uniprot_ids': None, 'reference_sequence_identifiers': None}}, {'rcsb_polymer_entity_container_identifiers': {'uniprot_ids': None, 'reference_sequence_identifiers': None}}], 'nonpolymer_entities': [{'nonpolymer_comp': {'rcsb_chem_comp_descriptor': {'InChIKey': 'PTFCDOFLOPIGGS-UHFFFAOYSA-N'}}}]}}}\n",
      "{'data': {'entry': {'rcsb_id': '4OND', 'polymer_entities': [{'rcsb_polymer_entity_container_identifiers': {'uniprot_ids': None, 'reference_sequence_identifiers': None}}, {'rcsb_polymer_entity_container_identifiers': {'uniprot_ids': None, 'reference_sequence_identifiers': None}}, {'rcsb_polymer_entity_container_identifiers': {'uniprot_ids': None, 'reference_sequence_identifiers': None}}], 'nonpolymer_entities': [{'nonpolymer_comp': {'rcsb_chem_comp_descriptor': {'InChIKey': 'PTFCDOFLOPIGGS-UHFFFAOYSA-N'}}}]}}}\n",
      "{'data': {'entry': {'rcsb_id': '1CIT', 'polymer_entities': [{'rcsb_polymer_entity_container_identifiers': {'uniprot_ids': None, 'reference_sequence_identifiers': None}}, {'rcsb_polymer_entity_container_identifiers': {'uniprot_ids': None, 'reference_sequence_identifiers': None}}, {'rcsb_polymer_entity_container_identifiers': {'uniprot_ids': ['P22829'], 'reference_sequence_identifiers': [{'database_accession': 'P22829'}]}}], 'nonpolymer_entities': [{'nonpolymer_comp': {'rcsb_chem_comp_descriptor': {'InChIKey': 'PTFCDOFLOPIGGS-UHFFFAOYSA-N'}}}]}}}\n",
      "{'data': {'entry': {'rcsb_id': '6LC1', 'polymer_entities': [{'rcsb_polymer_entity_container_identifiers': {'uniprot_ids': None, 'reference_sequence_identifiers': None}}, {'rcsb_polymer_entity_container_identifiers': {'uniprot_ids': ['P22736'], 'reference_sequence_identifiers': [{'database_accession': 'P22736'}]}}, {'rcsb_polymer_entity_container_identifiers': {'uniprot_ids': None, 'reference_sequence_identifiers': None}}], 'nonpolymer_entities': [{'nonpolymer_comp': {'rcsb_chem_comp_descriptor': {'InChIKey': 'PTFCDOFLOPIGGS-UHFFFAOYSA-N'}}}]}}}\n"
     ]
    }
   ],
   "source": [
    "#### PHASE 1 EXECUTION ####\n",
    "\n",
    "def main():\n",
    "    pid = input(\"Enter a Uniprot ID: \")\n",
    "    if is_uniprot(pid):\n",
    "        fasta = get_fasta(pid)\n",
    "        if fasta:\n",
    "            # Extract the sequence from the FASTA format\n",
    "            sequence = re.search(r'(?<=\\n)[A-Z\\n]+', fasta)\n",
    "            fasta_sequence = sequence.group(0).replace(\"\\n\", \"\")\n",
    "            \n",
    "            # Fetch similar protein IDs based on the FASTA sequence. Array is returned.\n",
    "            pdb_results = fetch_similarpid(fasta_sequence, pid)\n",
    "\n",
    "        else:\n",
    "            raise Exception(\"No FASTA sequence was retrieved.\")\n",
    "        \n",
    "        # Extract inChI keys from PDB IDs from the fetch_similarpid results\n",
    "        for pdb_id in pdb_results:\n",
    "            print(fetch_inchi_keys(pdb_id))\n",
    "\n",
    "        # Data Cleaning and Preparation for Phase II\n",
    "\n",
    "    \n",
    "    else:\n",
    "        print(f\"Error: {pid} does not exist in UniProt.\")\n",
    "\n",
    "if __name__ == \"__main__\":\n",
    "    main()"
   ]
  },
  {
   "cell_type": "markdown",
   "metadata": {},
   "source": [
    "### Phase 2: Query All Assays Related to all Identified Proteins from PubChem BioAssay"
   ]
  },
  {
   "cell_type": "markdown",
   "metadata": {},
   "source": []
  },
  {
   "cell_type": "code",
   "execution_count": null,
   "metadata": {},
   "outputs": [],
   "source": [
    "\n"
   ]
  },
  {
   "cell_type": "markdown",
   "metadata": {},
   "source": [
    "### Phase 3: Find Substances That Were Tested From Assays and Store in Dictionary"
   ]
  },
  {
   "cell_type": "markdown",
   "metadata": {},
   "source": [
    "### Phase 4: Refer to Stored Protein Data Bank for Pairs of InChi and UniProt Match "
   ]
  },
  {
   "cell_type": "code",
   "execution_count": null,
   "metadata": {},
   "outputs": [],
   "source": []
  },
  {
   "cell_type": "markdown",
   "metadata": {},
   "source": [
    "### Phase 5: Output Remaining Data as a Table"
   ]
  }
 ],
 "metadata": {
  "kernelspec": {
   "display_name": "Python 3",
   "language": "python",
   "name": "python3"
  },
  "language_info": {
   "codemirror_mode": {
    "name": "ipython",
    "version": 3
   },
   "file_extension": ".py",
   "mimetype": "text/x-python",
   "name": "python",
   "nbconvert_exporter": "python",
   "pygments_lexer": "ipython3",
   "version": "3.11.3"
  }
 },
 "nbformat": 4,
 "nbformat_minor": 2
}
