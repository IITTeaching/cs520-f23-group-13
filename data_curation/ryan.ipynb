{
 "cells": [
  {
   "cell_type": "code",
   "execution_count": 28,
   "metadata": {
    "vscode": {
     "languageId": "shellscript"
    }
   },
   "outputs": [
    {
     "name": "stdout",
     "output_type": "stream",
     "text": [
      "Requirement already satisfied: requests in /opt/homebrew/lib/python3.11/site-packages (2.31.0)\n",
      "Requirement already satisfied: charset-normalizer<4,>=2 in /opt/homebrew/lib/python3.11/site-packages (from requests) (3.3.0)\n",
      "Requirement already satisfied: idna<4,>=2.5 in /opt/homebrew/lib/python3.11/site-packages (from requests) (3.4)\n",
      "Requirement already satisfied: urllib3<3,>=1.21.1 in /opt/homebrew/lib/python3.11/site-packages (from requests) (2.0.6)\n",
      "Requirement already satisfied: certifi>=2017.4.17 in /opt/homebrew/lib/python3.11/site-packages (from requests) (2023.7.22)\n",
      "\n",
      "\u001b[1m[\u001b[0m\u001b[34;49mnotice\u001b[0m\u001b[1;39;49m]\u001b[0m\u001b[39;49m A new release of pip is available: \u001b[0m\u001b[31;49m23.2.1\u001b[0m\u001b[39;49m -> \u001b[0m\u001b[32;49m23.3.1\u001b[0m\n",
      "\u001b[1m[\u001b[0m\u001b[34;49mnotice\u001b[0m\u001b[1;39;49m]\u001b[0m\u001b[39;49m To update, run: \u001b[0m\u001b[32;49mpython3.11 -m pip install --upgrade pip\u001b[0m\n"
     ]
    }
   ],
   "source": [
    "!pip install requests"
   ]
  },
  {
   "cell_type": "code",
   "execution_count": 29,
   "metadata": {},
   "outputs": [],
   "source": [
    "import re\n",
    "import requests"
   ]
  },
  {
   "cell_type": "markdown",
   "metadata": {},
   "source": [
    "### Phase 1: Solicit User for UniProt ID and Query/Save the Protein's Similar Sequences"
   ]
  },
  {
   "cell_type": "code",
   "execution_count": 30,
   "metadata": {},
   "outputs": [],
   "source": [
    "# Define a function that takes a Uniprot ID as input and returns True if the ID exists in Uniprot and False if it doesn't.\n",
    "def is_uniprot(pid):\n",
    "    uniprot_api=f\"https://www.uniprot.org/uniprot/{pid}.txt\"\n",
    "    response = requests.get(uniprot_api)\n",
    "    if response.status_code == 200:\n",
    "        return True\n",
    "    else:\n",
    "        pid = input(f\"Error: {pid} doesn't exist in Uniprot. Enter a valid Uniprot ID:\") # Get UniProt ID from user\n",
    "        is_uniprot(pid)\n",
    "\n",
    "# Prompt the user for a UniProt ID\n",
    "pid = input(\"Enter a Uniprot ID: \")\n",
    "is_uniprot(pid)\n",
    "\n",
    "# Define a function that takes a Uniprot ID as input and returns a list similar IDs from PubChem BioAssay.\n",
    "\n",
    "def get_similar_ids(pid):\n",
    "    pubchem_url = f\"https://pubchem.ncbi.nlm.nih.gov/rest/pug/protein/synonym/PR:{pid}/summary/JSON\" # Need to update summary to similarity\n",
    "\n",
    "    response = requests.get(pubchem_url)\n",
    "    if response.status_code == 200:\n",
    "        # Process the response if request was successful\n",
    "        cids = response.text\n",
    "        print(\"Retrieved CIDs:\", cids)\n",
    "    else:\n",
    "        # Handle errors\n",
    "        print(\"Error:\", response.text)\n",
    "\n",
    "    # From Documentation: By Protein Synonym\n",
    "    # One can also use protein synonym to access protein data in PubChem. For example:\n",
    "    # https://pubchem.ncbi.nlm.nih.gov/rest/pug/protein/synonym/PR:P00533/summary/JSON\n",
    "    # https://pubchem.ncbi.nlm.nih.gov/rest/pug/protein/synonym/ChEMBL:CHEMBL203/summary/JSON\n",
    "    # Identifiers from external sources are treated as synonyms. It is recommended to prepend IDs with ID source to eliminate ambiguity."
   ]
  },
  {
   "cell_type": "markdown",
   "metadata": {},
   "source": [
    "### Phase 2: Query All Assays Related to all Identified Proteins from PubChem BioAssay"
   ]
  },
  {
   "cell_type": "markdown",
   "metadata": {},
   "source": []
  },
  {
   "cell_type": "code",
   "execution_count": null,
   "metadata": {},
   "outputs": [],
   "source": []
  },
  {
   "cell_type": "markdown",
   "metadata": {},
   "source": [
    "### Phase 3: Find Substances That Were Tested From Assays and Store in Dictionary"
   ]
  },
  {
   "cell_type": "markdown",
   "metadata": {},
   "source": [
    "### Phase 4: Call Protein Data Bank for Pairs of InChi and UniProt Match "
   ]
  },
  {
   "cell_type": "markdown",
   "metadata": {},
   "source": [
    "### Phase 5: Output Remaining Data as a Table"
   ]
  }
 ],
 "metadata": {
  "kernelspec": {
   "display_name": "Python 3",
   "language": "python",
   "name": "python3"
  },
  "language_info": {
   "codemirror_mode": {
    "name": "ipython",
    "version": 3
   },
   "file_extension": ".py",
   "mimetype": "text/x-python",
   "name": "python",
   "nbconvert_exporter": "python",
   "pygments_lexer": "ipython3",
   "version": "3.11.3"
  }
 },
 "nbformat": 4,
 "nbformat_minor": 2
}
