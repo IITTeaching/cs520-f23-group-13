{
 "cells": [
  {
   "cell_type": "code",
   "execution_count": 5,
   "metadata": {
    "vscode": {
     "languageId": "shellscript"
    }
   },
   "outputs": [
    {
     "name": "stdout",
     "output_type": "stream",
     "text": [
      "Requirement already satisfied: requests in /opt/homebrew/lib/python3.11/site-packages (2.31.0)\n",
      "Requirement already satisfied: charset-normalizer<4,>=2 in /opt/homebrew/lib/python3.11/site-packages (from requests) (3.3.0)\n",
      "Requirement already satisfied: idna<4,>=2.5 in /opt/homebrew/lib/python3.11/site-packages (from requests) (3.4)\n",
      "Requirement already satisfied: urllib3<3,>=1.21.1 in /opt/homebrew/lib/python3.11/site-packages (from requests) (2.0.6)\n",
      "Requirement already satisfied: certifi>=2017.4.17 in /opt/homebrew/lib/python3.11/site-packages (from requests) (2023.7.22)\n",
      "\n",
      "\u001b[1m[\u001b[0m\u001b[34;49mnotice\u001b[0m\u001b[1;39;49m]\u001b[0m\u001b[39;49m A new release of pip is available: \u001b[0m\u001b[31;49m23.2.1\u001b[0m\u001b[39;49m -> \u001b[0m\u001b[32;49m23.3.1\u001b[0m\n",
      "\u001b[1m[\u001b[0m\u001b[34;49mnotice\u001b[0m\u001b[1;39;49m]\u001b[0m\u001b[39;49m To update, run: \u001b[0m\u001b[32;49mpython3.11 -m pip install --upgrade pip\u001b[0m\n",
      "Collecting rcsbsearchapi\n",
      "  Downloading rcsbsearchapi-1.4.2.tar.gz (177 kB)\n",
      "\u001b[2K     \u001b[90m━━━━━━━━━━━━━━━━━━━━━━━━━━━━━━━━━━━━━━━\u001b[0m \u001b[32m177.6/177.6 kB\u001b[0m \u001b[31m6.3 MB/s\u001b[0m eta \u001b[36m0:00:00\u001b[0m\n",
      "\u001b[?25h  Preparing metadata (setup.py) ... \u001b[?25ldone\n",
      "\u001b[?25hRequirement already satisfied: requests>=2.0.0 in /opt/homebrew/lib/python3.11/site-packages (from rcsbsearchapi) (2.31.0)\n",
      "Collecting tqdm (from rcsbsearchapi)\n",
      "  Obtaining dependency information for tqdm from https://files.pythonhosted.org/packages/00/e5/f12a80907d0884e6dff9c16d0c0114d81b8cd07dc3ae54c5e962cc83037e/tqdm-4.66.1-py3-none-any.whl.metadata\n",
      "  Downloading tqdm-4.66.1-py3-none-any.whl.metadata (57 kB)\n",
      "\u001b[2K     \u001b[90m━━━━━━━━━━━━━━━━━━━━━━━━━━━━━━━━━━━━━━━━\u001b[0m \u001b[32m57.6/57.6 kB\u001b[0m \u001b[31m7.2 MB/s\u001b[0m eta \u001b[36m0:00:00\u001b[0m\n",
      "\u001b[?25hRequirement already satisfied: charset-normalizer<4,>=2 in /opt/homebrew/lib/python3.11/site-packages (from requests>=2.0.0->rcsbsearchapi) (3.3.0)\n",
      "Requirement already satisfied: idna<4,>=2.5 in /opt/homebrew/lib/python3.11/site-packages (from requests>=2.0.0->rcsbsearchapi) (3.4)\n",
      "Requirement already satisfied: urllib3<3,>=1.21.1 in /opt/homebrew/lib/python3.11/site-packages (from requests>=2.0.0->rcsbsearchapi) (2.0.6)\n",
      "Requirement already satisfied: certifi>=2017.4.17 in /opt/homebrew/lib/python3.11/site-packages (from requests>=2.0.0->rcsbsearchapi) (2023.7.22)\n",
      "Downloading tqdm-4.66.1-py3-none-any.whl (78 kB)\n",
      "\u001b[2K   \u001b[90m━━━━━━━━━━━━━━━━━━━━━━━━━━━━━━━━━━━━━━━━\u001b[0m \u001b[32m78.3/78.3 kB\u001b[0m \u001b[31m10.8 MB/s\u001b[0m eta \u001b[36m0:00:00\u001b[0m\n",
      "\u001b[?25hBuilding wheels for collected packages: rcsbsearchapi\n",
      "  Building wheel for rcsbsearchapi (setup.py) ... \u001b[?25ldone\n",
      "\u001b[?25h  Created wheel for rcsbsearchapi: filename=rcsbsearchapi-1.4.2-py2.py3-none-any.whl size=163536 sha256=32cc6be00810f4dc3b0b93958da7b6d2fffc89eac2a1cc1d6d4965b31c5349eb\n",
      "  Stored in directory: /Users/ryan/Library/Caches/pip/wheels/d5/c7/25/f3e9f96e227b7524bf0777ada1f988378f3e2e1e066f0a9634\n",
      "Successfully built rcsbsearchapi\n",
      "Installing collected packages: tqdm, rcsbsearchapi\n",
      "Successfully installed rcsbsearchapi-1.4.2 tqdm-4.66.1\n",
      "\n",
      "\u001b[1m[\u001b[0m\u001b[34;49mnotice\u001b[0m\u001b[1;39;49m]\u001b[0m\u001b[39;49m A new release of pip is available: \u001b[0m\u001b[31;49m23.2.1\u001b[0m\u001b[39;49m -> \u001b[0m\u001b[32;49m23.3.1\u001b[0m\n",
      "\u001b[1m[\u001b[0m\u001b[34;49mnotice\u001b[0m\u001b[1;39;49m]\u001b[0m\u001b[39;49m To update, run: \u001b[0m\u001b[32;49mpython3.11 -m pip install --upgrade pip\u001b[0m\n"
     ]
    }
   ],
   "source": [
    "!pip install requests\n",
    "!pip install rcsbsearchapi"
   ]
  },
  {
   "cell_type": "code",
   "execution_count": 14,
   "metadata": {},
   "outputs": [],
   "source": [
    "import re\n",
    "import requests\n",
    "\n",
    "from rcsbsearchapi.search import SequenceQuery"
   ]
  },
  {
   "cell_type": "markdown",
   "metadata": {},
   "source": [
    "### Phase 1: Solicit User for UniProt ID and Query/Save the Protein's Similar Sequences"
   ]
  },
  {
   "cell_type": "code",
   "execution_count": 28,
   "metadata": {},
   "outputs": [
    {
     "name": "stdout",
     "output_type": "stream",
     "text": [
      "None\n"
     ]
    }
   ],
   "source": [
    "# Define a function that takes a Uniprot ID as input and returns True if the ID exists in Uniprot and False if it doesn't.\n",
    "def is_uniprot(pid):\n",
    "    uniprot_api=f\"https://www.uniprot.org/uniprot/{pid}.txt\"\n",
    "    response = requests.get(uniprot_api)\n",
    "    if response.status_code == 200:\n",
    "        return True\n",
    "    else:\n",
    "        pid = input(f\"Error: {pid} doesn't exist in Uniprot. Enter a valid Uniprot ID:\") # Get UniProt ID from user\n",
    "        is_uniprot(pid)\n",
    "\n",
    "# Define a function that takes a Uniprot ID as input and returns a list similar IDs from PubChem BioAssay.\n",
    "def get_fasta(pid):\n",
    "    uniprot_fasta_url = f\"https://www.uniprot.org/uniprot/{pid}.fasta\" # Need to update summary to similarity\n",
    "\n",
    "    response = requests.get(uniprot_fasta_url)\n",
    "    if response.status_code == 200:\n",
    "        # Process the response if request was successful\n",
    "        fasta = response.text\n",
    "        return fasta\n",
    "    else:\n",
    "        # Handle errors\n",
    "        print(\"Error:\", response.text)\n",
    "\n",
    "# Prompt the user for a UniProt ID\n",
    "pid = input(\"Enter a Uniprot ID: \")\n",
    "is_uniprot(pid)\n",
    "fasta = get_fasta(pid)\n"
   ]
  },
  {
   "cell_type": "code",
   "execution_count": 71,
   "metadata": {},
   "outputs": [
    {
     "name": "stdout",
     "output_type": "stream",
     "text": [
      "{\n",
      "  \"query_id\" : \"c1ecb5aa-ef6c-4b6b-9a03-aab98cdca196\",\n",
      "  \"result_type\" : \"polymer_entity\",\n",
      "  \"total_count\" : 42,\n",
      "  \"result_set\" : [ {\n",
      "    \"identifier\" : \"1YY4_1\",\n",
      "    \"score\" : 1.0\n",
      "  }, {\n",
      "    \"identifier\" : \"1YYE_1\",\n",
      "    \"score\" : 1.0\n",
      "  }, {\n",
      "    \"identifier\" : \"1QKM_1\",\n",
      "    \"score\" : 0.9410187667560321\n",
      "  }, {\n",
      "    \"identifier\" : \"1L2J_1\",\n",
      "    \"score\" : 0.9249329758713136\n",
      "  }, {\n",
      "    \"identifier\" : \"2I0G_1\",\n",
      "    \"score\" : 0.9195710455764075\n",
      "  }, {\n",
      "    \"identifier\" : \"2JJ3_1\",\n",
      "    \"score\" : 0.9195710455764075\n",
      "  }, {\n",
      "    \"identifier\" : \"2QTU_1\",\n",
      "    \"score\" : 0.9195710455764075\n",
      "  }, {\n",
      "    \"identifier\" : \"2Z4B_1\",\n",
      "    \"score\" : 0.9195710455764075\n",
      "  }, {\n",
      "    \"identifier\" : \"4ZI1_1\",\n",
      "    \"score\" : 0.8954423592493298\n",
      "  }, {\n",
      "    \"identifier\" : \"5TOA_1\",\n",
      "    \"score\" : 0.8954423592493298\n",
      "  } ]\n",
      "}\n"
     ]
    }
   ],
   "source": [
    "# Function to query PDB for sequence similar proteins to the input protein. Returns a list of similar proteins.\n",
    "def get_similarpid(fasta_sequence):\n",
    "    search_request = {\n",
    "        \"query\": {\n",
    "            \"type\": \"terminal\",\n",
    "            \"service\": \"sequence\",\n",
    "            \"parameters\": {\n",
    "            \"evalue_cutoff\": 1,\n",
    "            \"identity_cutoff\": 0.9,\n",
    "            \"sequence_type\": \"protein\",\n",
    "            \"value\": fasta_sequence\n",
    "            }\n",
    "            },\n",
    "        \"request_options\": {\n",
    "                \"scoring_strategy\": \"sequence\"\n",
    "            },\n",
    "        \"return_type\": \"polymer_entity\"\n",
    "    }\n",
    "\n",
    "    # The json parameter in the requests.post automatically converts the Python dictionary to a JSON payload.\n",
    "    response = requests.post(\"https://search.rcsb.org/rcsbsearch/v2/query\", json=search_request)\n",
    "    result = response.text\n",
    "    return result\n",
    "\n",
    "sequence = re.search(r'(?<=\\n)[A-Z\\n]+', fasta)\n",
    "fasta_sequence = sequence.group(0).replace(\"\\n\", \"\")\n",
    "results = get_similarpid(fasta_sequence)\n",
    "\n",
    "print(results)"
   ]
  },
  {
   "cell_type": "markdown",
   "metadata": {},
   "source": [
    "### Phase 2: Query All Assays Related to all Identified Proteins from PubChem BioAssay"
   ]
  },
  {
   "cell_type": "markdown",
   "metadata": {},
   "source": []
  },
  {
   "cell_type": "code",
   "execution_count": 26,
   "metadata": {},
   "outputs": [
    {
     "name": "stdout",
     "output_type": "stream",
     "text": [
      "MDIKNSPSSLNSPSSYNCSQSILPLEHGSIYIPSSYVDSHHEYPAMTFYSPAVMNYSIPS\n",
      "NVTNLEGGPGRQTTSPNVLWPTPGHLSPLVVHRQLSHLYAEPQKSPWCEARSLEHTLPVN\n",
      "RETLKRKVSGNRCASPVTGPGSKRDAHFCAVCSDYASGYHYGVWSCEGCKAFFKRSIQGH\n",
      "NDYICPATNQCTIDKNRRKSCQACRLRKCYEVGMVKCGSRRERCGYRLVRRQRSADEQLH\n",
      "CAGKAKRSGGHAPRVRELLLDALSPEQLVLTLLEAEPPHVLISRPSAPFTEASMMMSLTK\n",
      "LADKELVHMISWAKKIPGFVELSLFDQVRLLESCWMEVLMMGLMWRSIDHPGKLIFAPDL\n",
      "VLDRDEGKCVEGILEIFDMLLATTSRFRELKLQHKEYLCVKAMILLNSSMYPLVTATQDA\n",
      "DSSRKLAHLLNAVTDALVWVIAKSGISSQQQSMRLANLLMLLSHVRHASNKGMEHLLNMK\n",
      "CKNVVPVYDLLLEMLNAHVLRGCKSSITGSECSPAEDSKSKEGSQNPQSQ\n",
      "\n"
     ]
    }
   ],
   "source": [
    "\n"
   ]
  },
  {
   "cell_type": "markdown",
   "metadata": {},
   "source": [
    "### Phase 3: Find Substances That Were Tested From Assays and Store in Dictionary"
   ]
  },
  {
   "cell_type": "markdown",
   "metadata": {},
   "source": [
    "### Phase 4: Call Protein Data Bank for Pairs of InChi and UniProt Match "
   ]
  },
  {
   "cell_type": "markdown",
   "metadata": {},
   "source": [
    "### Phase 5: Output Remaining Data as a Table"
   ]
  }
 ],
 "metadata": {
  "kernelspec": {
   "display_name": "Python 3",
   "language": "python",
   "name": "python3"
  },
  "language_info": {
   "codemirror_mode": {
    "name": "ipython",
    "version": 3
   },
   "file_extension": ".py",
   "mimetype": "text/x-python",
   "name": "python",
   "nbconvert_exporter": "python",
   "pygments_lexer": "ipython3",
   "version": "3.11.3"
  }
 },
 "nbformat": 4,
 "nbformat_minor": 2
}
