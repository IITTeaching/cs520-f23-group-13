{
 "cells": [
  {
   "cell_type": "code",
   "execution_count": null,
   "metadata": {
    "vscode": {
     "languageId": "shellscript"
    }
   },
   "outputs": [],
   "source": [
    "!pip install requests\n",
    "!pip install rcsbsearchapi"
   ]
  },
  {
   "cell_type": "code",
   "execution_count": null,
   "metadata": {},
   "outputs": [],
   "source": [
    "import re\n",
    "import requests\n",
    "import json\n",
    "\n",
    "from rcsbsearchapi.search import SequenceQuery"
   ]
  },
  {
   "cell_type": "markdown",
   "metadata": {},
   "source": [
    "### Phase 1: Solicit User for UniProt ID and Query/Save the Protein's Similar Sequences"
   ]
  },
  {
   "cell_type": "code",
   "execution_count": null,
   "metadata": {},
   "outputs": [],
   "source": [
    "import requests\n",
    "\n",
    "def is_uniprot(pid):\n",
    "    \"\"\"\n",
    "    Check if a UniProt ID exists in the UniProt database.\n",
    "\n",
    "    Parameters:\n",
    "    pid (str): The UniProt ID to verify.\n",
    "\n",
    "    Returns:\n",
    "    bool: True if the UniProt ID exists, False otherwise.\n",
    "    \"\"\"\n",
    "    uniprot_api = f\"https://www.uniprot.org/uniprot/{pid}.txt\"\n",
    "    response = requests.get(uniprot_api)\n",
    "    return response.status_code == 200\n",
    "\n",
    "def get_fasta(pid):\n",
    "    \"\"\"\n",
    "    Retrieve the FASTA formatted sequence for a given UniProt ID.\n",
    "\n",
    "    Parameters:\n",
    "    pid (str): The UniProt ID for which to fetch the FASTA sequence.\n",
    "\n",
    "    Returns:\n",
    "    str: The FASTA formatted sequence if the UniProt ID exists, otherwise an error message.\n",
    "    \"\"\"\n",
    "    uniprot_fasta_url = f\"https://www.uniprot.org/uniprot/{pid}.fasta\"\n",
    "    response = requests.get(uniprot_fasta_url)\n",
    "    if response.status_code == 200:\n",
    "        return response.text\n",
    "    else:\n",
    "        return f\"Error: Unable to retrieve FASTA for UniProt ID {pid}\"\n"
   ]
  },
  {
   "cell_type": "code",
   "execution_count": 39,
   "metadata": {},
   "outputs": [],
   "source": [
    "def fetch_similarpid(fasta_sequence, pid):\n",
    "    \"\"\"\n",
    "    Performs a sequence similarity search against the RCSB Protein Data Bank (PDB) using a FASTA sequence.\n",
    "\n",
    "    Parameters:\n",
    "    fasta_sequence (str): The FASTA formatted sequence of a protein to search for.\n",
    "    evalue_cutoff (float): The e-value cutoff for the search. Default is 1.\n",
    "    identity_cutoff (float): The minimum identity percentage for the search. Default is 0.9.\n",
    "\n",
    "    Returns:\n",
    "    arr: The search result as an array of PDB IDs.\n",
    "    \"\"\"\n",
    "\n",
    "    search_request = {\n",
    "        \"query\": {\n",
    "            \"type\": \"terminal\",\n",
    "            \"service\": \"sequence\",\n",
    "            \"parameters\": {\n",
    "            \"evalue_cutoff\": 0.0001,\n",
    "            \"identity_cutoff\": 0.6,\n",
    "            \"sequence_type\": \"protein\",\n",
    "            \"value\": fasta_sequence\n",
    "            }\n",
    "        },\n",
    "        \"return_type\": \"polymer_entity\",\n",
    "        \"request_options\": {\n",
    "            \"paginate\": {\n",
    "            \"start\": 0,\n",
    "            \"rows\": 1000\n",
    "            },\n",
    "            \"results_content_type\": [\n",
    "            \"experimental\"\n",
    "            ],\n",
    "            \"sort\": [\n",
    "            {\n",
    "                \"sort_by\": \"score\",\n",
    "                \"direction\": \"desc\"\n",
    "            }\n",
    "            ],\n",
    "            \"scoring_strategy\": \"combined\"\n",
    "        }\n",
    "    }   \n",
    "\n",
    "    # The json parameter in the requests.post automatically converts the Python dictionary to a JSON payload.\n",
    "    response = requests.post(\"https://search.rcsb.org/rcsbsearch/v2/query\", json=search_request)\n",
    "\n",
    "    # JSON elements are turned into a list    \n",
    "    identifiers_json = response.json()\n",
    "    identifiers = [result[\"identifier\"] for result in identifiers_json[\"result_set\"]]\n",
    "\n",
    "    print(identifiers)\n",
    "    return identifiers\n"
   ]
  },
  {
   "cell_type": "code",
   "execution_count": null,
   "metadata": {},
   "outputs": [],
   "source": [
    "# use this section to parse the results from previous code block and store all related UniProt IDs as an array"
   ]
  },
  {
   "cell_type": "code",
   "execution_count": null,
   "metadata": {},
   "outputs": [],
   "source": [
    "def fetch_inchi_keys(pdb_id):\n",
    "    \"\"\"\n",
    "    Fetch InChIKeys for non-polymer entities (small molecules) associated with a PDB ID.\n",
    "\n",
    "    Parameters:\n",
    "    pdb_id (str): A string representing the PDB ID for which to fetch the InChIKeys.\n",
    "\n",
    "    Returns:\n",
    "    dict: A dictionary object that contains the response with InChIKeys.\n",
    "    \"\"\"\n",
    "    match = re.match(r'(\\w+)_([0-9]+)', pdb_id)\n",
    "\n",
    "    if match:\n",
    "        pdb_id = match.group(1)\n",
    "        num = match.group(2)\n",
    "    else:\n",
    "        raise Exception(f\"Invalid PDB ID: {pdb_id}\")\n",
    "    \n",
    "    url = 'https://data.rcsb.org/graphql'\n",
    "    headers = {'Content-Type': 'application/json'}\n",
    "    query = \"\"\"\n",
    "    query Structure($id: String!) {\n",
    "      entry(entry_id: $id) {\n",
    "        rcsb_id\n",
    "        polymer_entities {\n",
    "          rcsb_polymer_entity_container_identifiers {\n",
    "            uniprot_ids\n",
    "            reference_sequence_identifiers {\n",
    "              database_accession\n",
    "            }\n",
    "          }\n",
    "        }\n",
    "        nonpolymer_entities {\n",
    "          nonpolymer_comp {\n",
    "            rcsb_chem_comp_descriptor {\n",
    "              InChIKey\n",
    "            }\n",
    "          }\n",
    "        }\n",
    "      }\n",
    "    }\n",
    "    \"\"\"\n",
    "    variables = {'id': pdb_id}\n",
    "    response = requests.post(url, headers=headers, json={'query': query, 'variables': variables})\n",
    "    \n",
    "    if response.status_code == 200:\n",
    "        return response.json()\n",
    "    else:\n",
    "        raise Exception(f\"Query failed to run by returning code of {response.status_code}. {response.text}\")"
   ]
  },
  {
   "cell_type": "code",
   "execution_count": 37,
   "metadata": {},
   "outputs": [],
   "source": [
    "def process_pdb_results(pdb_results):\n",
    "    \"\"\"\n",
    "    Process a list of PDB IDs by fetching related data for each ID and compiling it into a list of tuples.\n",
    "\n",
    "    Each tuple contains the RCSB ID, a set of UniProt IDs, and a set of InChIKeys associated with the PDB ID.\n",
    "    This function assumes that each PDB ID corresponds to one entry in the RCSB database and that\n",
    "    the `fetch_inchi_keys` function is defined elsewhere to return the appropriate JSON structure.\n",
    "\n",
    "    Parameters:\n",
    "    pdb_results (list of str): A list of PDB IDs to process.\n",
    "\n",
    "    Returns:\n",
    "    list of tuples: A list where each tuple contains (RCSB ID, UniProt ID, InChIKey).\n",
    "    \"\"\"\n",
    "    \n",
    "    results_tuples = []\n",
    "\n",
    "    for pdb_id in pdb_results:\n",
    "        json_data = fetch_inchi_keys(pdb_id)['data']['entry']\n",
    "\n",
    "        rcsb_id = json_data['rcsb_id']\n",
    "\n",
    "        # Extract UniProt IDs\n",
    "        uniprot_ids = set()\n",
    "        for entity in json_data.get('polymer_entities', []):\n",
    "            container_identifiers = entity.get('rcsb_polymer_entity_container_identifiers', {})\n",
    "            identifiers = container_identifiers.get('reference_sequence_identifiers')\n",
    "            if identifiers:  # This check ensures that identifiers is not None\n",
    "                for identifier in identifiers:\n",
    "                    uniprot_ids.add(identifier.get('database_accession', ''))  # Use .get() for safe access\n",
    "\n",
    "\n",
    "        # Extract InChIKeys\n",
    "        inchi_keys = set()\n",
    "        for entity in json_data.get('nonpolymer_entities', []):\n",
    "            if 'rcsb_chem_comp_descriptor' in entity.get('nonpolymer_comp', {}):\n",
    "                inchi_keys.add(entity['nonpolymer_comp']['rcsb_chem_comp_descriptor']['InChIKey'])\n",
    "\n",
    "        # Combine the extracted data into tuples (assuming one InChIKey for simplicity)\n",
    "        for uniprot_id in uniprot_ids:\n",
    "            inchi_key = next(iter(inchi_keys)) if inchi_keys else ''\n",
    "            results_tuples.append((rcsb_id, uniprot_id, inchi_key))\n",
    "\n",
    "    return results_tuples\n"
   ]
  },
  {
   "cell_type": "code",
   "execution_count": 40,
   "metadata": {},
   "outputs": [
    {
     "name": "stdout",
     "output_type": "stream",
     "text": [
      "['1YY4_1', '1YYE_1', '1QKM_1', '1L2J_1', '2I0G_1', '2JJ3_1', '2QTU_1', '2Z4B_1', '4ZI1_1', '5TOA_1', '1NDE_1', '1U3R_1', '1U9E_1', '2GIU_1', '1U3Q_1', '1U3S_1', '1X76_1', '1X78_1', '1X7B_1', '1X7J_1', '2YJD_1', '3OLL_1', '3OLS_1', '3OMO_1', '3OMP_1', '3OMQ_1', '4J24_1', '4J26_1', '2FSZ_1', '2NV7_1', '2YLY_1', '1ZAF_1', '2J7X_1', '2J7Y_1', '1HJ1_1', '1QKN_1', '7XVY_1', '7XVZ_1', '7XWP_1', '7XWQ_1', '7XWR_1', '7NDO_1', '7NEL_1', '7NFB_1', '1HCQ_3', '1HCP_1', '4AA6_1', '4OLN_1', '8IFO_1', '1LO1_3', '8CEF_3', '4OND_1', '1CIT_3', '6LC1_2']\n",
      "['1YY4_1', '1YYE_1', '1QKM_1', '1L2J_1', '2I0G_1', '2JJ3_1', '2QTU_1', '2Z4B_1', '4ZI1_1', '5TOA_1', '1NDE_1', '1U3R_1', '1U9E_1', '2GIU_1', '1U3Q_1', '1U3S_1', '1X76_1', '1X78_1', '1X7B_1', '1X7J_1', '2YJD_1', '3OLL_1', '3OLS_1', '3OMO_1', '3OMP_1', '3OMQ_1', '4J24_1', '4J26_1', '2FSZ_1', '2NV7_1', '2YLY_1', '1ZAF_1', '2J7X_1', '2J7Y_1', '1HJ1_1', '1QKN_1', '7XVY_1', '7XVZ_1', '7XWP_1', '7XWQ_1', '7XWR_1', '7NDO_1', '7NEL_1', '7NFB_1', '1HCQ_3', '1HCP_1', '4AA6_1', '4OLN_1', '8IFO_1', '1LO1_3', '8CEF_3', '4OND_1', '1CIT_3', '6LC1_2']\n",
      "[('1YY4', 'Q92731', 'YHEHVRSGKUYDON-UHFFFAOYSA-N'), ('1YY4', 'Q15788', 'YHEHVRSGKUYDON-UHFFFAOYSA-N'), ('1YYE', 'Q92731', 'NSSOSHDCWCMNDM-UHFFFAOYSA-N'), ('1QKM', 'Q92731', 'TZBJGXHYKVUXJN-UHFFFAOYSA-N'), ('1L2J', 'Q92731', 'MASYAWHPJCQLSW-ZIAGYGMSSA-N'), ('2I0G', 'Q92731', 'XIESSJVMWNJCGZ-VKJFTORMSA-N'), ('2JJ3', 'Q92731', 'RHQLNMNKTIOREN-AOIWGVFYSA-N'), ('2QTU', 'Q92731', 'GPFRMIHXGMVMGF-BZSNNMDCSA-N'), ('2Z4B', 'Q92731', 'QJSMFUTULGSHNQ-ZOBUZTSGSA-N'), ('4ZI1', 'Q92731', 'KXVQYSIZQKFFIZ-UHFFFAOYSA-N'), ('4ZI1', 'Q9HCD5', 'KXVQYSIZQKFFIZ-UHFFFAOYSA-N'), ('5TOA', 'Q92731', 'VOXZDWNPVJITMN-ZBRFXRBCSA-N'), ('1NDE', 'Q92731', 'AIBKIFHSQQYXLG-UHFFFAOYSA-N'), ('1U3R', 'Q92731', 'JHOZVRGNIYFYHE-UHFFFAOYSA-N'), ('1U3R', 'Q15788', 'JHOZVRGNIYFYHE-UHFFFAOYSA-N'), ('1U9E', 'Q92731', 'SNNNDCMXZYWCCI-UHFFFAOYSA-N'), ('2GIU', 'Q92731', 'FTEBGBCQCYMDPH-KRWDZBQOSA-N'), ('1U3Q', 'Q92731', 'NBTXJDAHLMMIGY-UHFFFAOYSA-N'), ('1U3S', 'Q92731', 'LCGSYJVWLGYWTD-UHFFFAOYSA-N'), ('1U3S', 'Q15788', 'LCGSYJVWLGYWTD-UHFFFAOYSA-N'), ('1X76', 'Q92731', 'GGEKOZPXKBYLNK-UHFFFAOYSA-N'), ('1X76', 'Q15788', 'GGEKOZPXKBYLNK-UHFFFAOYSA-N'), ('1X78', 'Q92731', 'ZKJVCUXZMYKTLT-UHFFFAOYSA-N'), ('1X7B', 'Q92731', 'MQIMZDXIAHJKQP-UHFFFAOYSA-N'), ('1X7J', 'Q92731', 'TZBJGXHYKVUXJN-UHFFFAOYSA-N'), ('2YJD', 'Q92731', 'IRWOSCQWORJIQP-UHFFFAOYSA-N'), ('2YJD', 'Q15596', 'IRWOSCQWORJIQP-UHFFFAOYSA-N'), ('3OLL', 'Q92731', 'VOXZDWNPVJITMN-ZBRFXRBCSA-N'), ('3OLL', 'Q15788', 'VOXZDWNPVJITMN-ZBRFXRBCSA-N'), ('3OLS', 'Q92731', 'VOXZDWNPVJITMN-ZBRFXRBCSA-N'), ('3OLS', 'Q15788', 'VOXZDWNPVJITMN-ZBRFXRBCSA-N'), ('3OMO', 'Q92731', 'QNFSENFVEFYGPS-UHFFFAOYSA-N'), ('3OMO', 'Q15788', 'QNFSENFVEFYGPS-UHFFFAOYSA-N'), ('3OMP', 'Q92731', 'OZASZYYBDFCSHO-UHFFFAOYSA-N'), ('3OMP', 'Q15788', 'OZASZYYBDFCSHO-UHFFFAOYSA-N'), ('3OMQ', 'Q92731', 'HADUTEDIBIZUBV-UHFFFAOYSA-N'), ('3OMQ', 'Q15788', 'HADUTEDIBIZUBV-UHFFFAOYSA-N'), ('4J24', 'Q92731', 'VOXZDWNPVJITMN-ZBRFXRBCSA-N'), ('4J26', 'Q92731', 'VOXZDWNPVJITMN-ZBRFXRBCSA-N'), ('2FSZ', 'Q92731', 'TXUZVZSFRXZGTL-QPLCGJKRSA-N'), ('2NV7', 'Q92731', 'VYQQTWUZKPWPRL-WOJGMQOQSA-N'), ('2NV7', 'Q15788', 'VYQQTWUZKPWPRL-WOJGMQOQSA-N'), ('2YLY', 'Q92731', 'GYHSDCAQMDKVKI-SFHVURJKSA-N'), ('1ZAF', 'Q92731', 'DHPCBFMFERFZLR-UHFFFAOYSA-N'), ('1ZAF', 'Q15788', 'DHPCBFMFERFZLR-UHFFFAOYSA-N'), ('2J7X', 'Q9HCD5', 'VOXZDWNPVJITMN-ZBRFXRBCSA-N'), ('2J7X', 'Q62986', 'VOXZDWNPVJITMN-ZBRFXRBCSA-N'), ('2J7Y', 'Q9HCD5', 'QAOWNCQODCNURD-UHFFFAOYSA-L'), ('2J7Y', 'Q62986', 'QAOWNCQODCNURD-UHFFFAOYSA-L'), ('1HJ1', 'Q62986', 'BVVFOLSZMQVDKV-KXQIQQEYSA-N'), ('1QKN', 'Q62986', 'GZUITABIAKMVPG-UHFFFAOYSA-N'), ('7XVY', 'Q92731', 'GHZHWDWADLAOIQ-CYBMUJFWSA-N'), ('7XVY', 'Q15788', 'GHZHWDWADLAOIQ-CYBMUJFWSA-N'), ('7XVZ', 'Q92731', 'NDFNTIQEFMPFJY-LBPRGKRZSA-N'), ('7XVZ', 'Q15788', 'NDFNTIQEFMPFJY-LBPRGKRZSA-N'), ('7XWP', 'Q92731', 'NDFNTIQEFMPFJY-GFCCVEGCSA-N'), ('7XWP', 'Q15788', 'NDFNTIQEFMPFJY-GFCCVEGCSA-N'), ('7XWQ', 'Q92731', 'PQFVBUHUFFSLPG-NSHDSACASA-N'), ('7XWQ', 'Q15788', 'PQFVBUHUFFSLPG-NSHDSACASA-N'), ('7XWR', 'Q92731', 'PQFVBUHUFFSLPG-LLVKDONJSA-N'), ('7XWR', 'Q15788', 'PQFVBUHUFFSLPG-LLVKDONJSA-N'), ('7NDO', 'P03372', 'LYCAIKOWRPUZTN-UHFFFAOYSA-N'), ('7NEL', 'P03372', 'LYCAIKOWRPUZTN-UHFFFAOYSA-N'), ('7NEL', 'Q15596', 'LYCAIKOWRPUZTN-UHFFFAOYSA-N'), ('7NFB', 'P03372', 'LYCAIKOWRPUZTN-UHFFFAOYSA-N'), ('7NFB', 'Q15596', 'LYCAIKOWRPUZTN-UHFFFAOYSA-N'), ('1HCQ', 'P03372', 'PTFCDOFLOPIGGS-UHFFFAOYSA-N'), ('1HCP', 'P03372', 'PTFCDOFLOPIGGS-UHFFFAOYSA-N'), ('4AA6', 'P03372', 'PTFCDOFLOPIGGS-UHFFFAOYSA-N'), ('8IFO', 'P62508', 'PTFCDOFLOPIGGS-UHFFFAOYSA-N'), ('1LO1', 'O95718', 'PTFCDOFLOPIGGS-UHFFFAOYSA-N'), ('1CIT', 'P22829', 'PTFCDOFLOPIGGS-UHFFFAOYSA-N'), ('6LC1', 'P22736', 'PTFCDOFLOPIGGS-UHFFFAOYSA-N')]\n"
     ]
    }
   ],
   "source": [
    "#### PHASE 1 EXECUTION ####\n",
    "\n",
    "def main():\n",
    "    pid = input(\"Enter a Uniprot ID: \")\n",
    "    if is_uniprot(pid):\n",
    "        fasta = get_fasta(pid)\n",
    "        if fasta:\n",
    "            # Extract the sequence from the FASTA format\n",
    "            sequence = re.search(r'(?<=\\n)[A-Z\\n]+', fasta)\n",
    "            fasta_sequence = sequence.group(0).replace(\"\\n\", \"\")\n",
    "            \n",
    "            # Fetch similar protein IDs based on the FASTA sequence. Array is returned.\n",
    "            pdb_results = fetch_similarpid(fasta_sequence, pid)\n",
    "\n",
    "        else:\n",
    "            raise Exception(\"No FASTA sequence was retrieved.\")\n",
    "        \n",
    "        # Extract inChI keys from PDB IDs from the fetch_similarpid results\n",
    "        print(pdb_results)\n",
    "        processed_results = process_pdb_results(pdb_results)\n",
    "        print(processed_results)\n",
    "    \n",
    "    else:\n",
    "        print(f\"Error: {pid} does not exist in UniProt.\")\n",
    "\n",
    "if __name__ == \"__main__\":\n",
    "    main()"
   ]
  },
  {
   "cell_type": "markdown",
   "metadata": {},
   "source": [
    "### Phase 2: Query All Assays Related to all Identified Proteins from PubChem BioAssay"
   ]
  },
  {
   "cell_type": "markdown",
   "metadata": {},
   "source": []
  },
  {
   "cell_type": "code",
   "execution_count": null,
   "metadata": {},
   "outputs": [],
   "source": [
    "\n"
   ]
  },
  {
   "cell_type": "markdown",
   "metadata": {},
   "source": [
    "### Phase 3: Find Substances That Were Tested From Assays and Store in Dictionary"
   ]
  },
  {
   "cell_type": "markdown",
   "metadata": {},
   "source": [
    "### Phase 4: Refer to Stored Protein Data Bank for Pairs of InChi and UniProt Match "
   ]
  },
  {
   "cell_type": "code",
   "execution_count": null,
   "metadata": {},
   "outputs": [],
   "source": []
  },
  {
   "cell_type": "markdown",
   "metadata": {},
   "source": [
    "### Phase 5: Output Remaining Data as a Table"
   ]
  }
 ],
 "metadata": {
  "kernelspec": {
   "display_name": "Python 3",
   "language": "python",
   "name": "python3"
  },
  "language_info": {
   "codemirror_mode": {
    "name": "ipython",
    "version": 3
   },
   "file_extension": ".py",
   "mimetype": "text/x-python",
   "name": "python",
   "nbconvert_exporter": "python",
   "pygments_lexer": "ipython3",
   "version": "3.11.3"
  }
 },
 "nbformat": 4,
 "nbformat_minor": 2
}
